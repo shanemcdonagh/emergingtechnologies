{
 "cells": [
  {
   "cell_type": "markdown",
   "metadata": {},
   "source": [
    "<h1 style=\"color: rgb(0, 91, 94);\">JupyterLite</h1>\n",
    "\n",
    "<hr style=\"border-top: 1px solid rgb(0, 91, 94);\" />\n",
    "\n",
    "\n",
    "This notebook is about JupyterLite."
   ]
  },
  {
   "cell_type": "markdown",
   "metadata": {},
   "source": [
    "<h2 style=\"color: rgb(0, 91, 94);\">Website</h2>\n",
    "\n",
    "<hr style=\"border-top: 1px solid rgb(0, 91, 94);\" />\n",
    "\n",
    "<a href=\"https://jupyterlite.readthedocs.io/en/latest/\" style=\"color: #ff791e\">JupyterLite Documentation</a>"
   ]
  },
  {
   "cell_type": "markdown",
   "metadata": {},
   "source": [
    "<h2 style=\"color: rgb(0, 91, 94);\">Demos</h2>\n",
    "\n",
    "<hr style=\"border-top: 1px solid rgb(0, 91, 94);\" />\n",
    "\n",
    "All of these demos run fully on the client side - even Python does.\n",
    "\n",
    "<a href=\"https://jupyterlite.readthedocs.io/en/latest/_static/lab/\" style=\"color: #ff791e\">JupyterLite Lab</a>\n",
    "\n",
    "<a href=\"https://jupyterlite.readthedocs.io/en/latest/_static/retro/tree/\" style=\"color: #ff791e\">JupyterLite Notebook</a>\n",
    "\n",
    "<a href=\"https://jupyterlite.readthedocs.io/en/latest/_static/repl/index.html?toolbar=1\" style=\"color: #ff791e\">JupyterLite REPL</a>\n"
   ]
  },
  {
   "cell_type": "markdown",
   "metadata": {},
   "source": [
    "<h2 style=\"color: rgb(0, 91, 94);\">GitHub Demo Repo</h2>\n",
    "\n",
    "<hr style=\"border-top: 1px solid rgb(0, 91, 94);\" />\n",
    "\n",
    "<a href=\"https://github.com/jupyterlite/demo\" style=\"color: #ff791e\">JupyterLite Demo</a>\n",
    "\n",
    "A GitHub repository that you can use as a template to create your own JupyterLite site."
   ]
  },
  {
   "cell_type": "markdown",
   "metadata": {},
   "source": [
    "<h2 style=\"color: rgb(0, 91, 94);\">Resources</h2>\n",
    "\n",
    "<hr style=\"border-top: 1px solid rgb(0, 91, 94);\" />\n",
    "\n",
    "<a href=\"https://docs.github.com/en/actions/using-workflows/workflow-syntax-for-github-actions\" style=\"color: #ff791e\">Workflow syntax for GitHub Actions</a>\n",
    "\n",
    "<a href=\"https://learnpython.com/blog/python-requirements-file/\" style=\"color: #ff791e\">The Python Requirements File and How to Create it</a>\n",
    "\n",
    "<a href=\"https://web.dev/storage-for-the-web/\" style=\"color: #ff791e\">Storage for the web</a>\n",
    "\n",
    "<a href=\"https://developer.mozilla.org/en-US/docs/Web/API/Web_Storage_API\" style=\"color: #ff791e\">Web Storage API</a>\n",
    "\n",
    "<a href=\"https://developer.mozilla.org/en-US/docs/Web/API/IndexedDB_API\" style=\"color: #ff791e\">IndexedDB API</a>"
   ]
  },
  {
   "cell_type": "markdown",
   "metadata": {},
   "source": [
    "<h3 style=\"color: #001a79;\">Exercise 1</h3>\n",
    "\n",
    "<hr style=\"border-top: 1px solid #001a79;\" />\n",
    "\n",
    "<i style=\"color: #001a79;\">Remember to do these exercises in your assessment repository.</i>\n",
    "\n",
    "1. Create your own repository from the JupyterLite Demo template repository.\n",
    "2. Serve the repository using GitHub Pages/Actions.\n",
    "3. Submit the repository URL using the assessment submission form on the Moodle page.\n",
    "4. Change the README to reflect what the repository will contain - your assessment submission.\n",
    "5. Comment all files.\n",
    "6. Remove any unecessary files.\n",
    "7. Make sure your website compiles and is available.\n",
    "\n",
    "<hr style=\"border-top: 1px solid #001a79;\" />\n"
   ]
  },
  {
   "cell_type": "markdown",
   "metadata": {},
   "source": [
    "<hr style=\"border-top: 1px solid rgb(0, 91, 94);\" />\n",
    "\n",
    "<h2 style=\"color: rgb(0, 91, 94);\">End</h2>"
   ]
  }
 ],
 "metadata": {
  "kernelspec": {
   "display_name": "Python 3 (ipykernel)",
   "language": "python",
   "name": "python3"
  },
  "language_info": {
   "codemirror_mode": {
    "name": "ipython",
    "version": 3
   },
   "file_extension": ".py",
   "mimetype": "text/x-python",
   "name": "python",
   "nbconvert_exporter": "python",
   "pygments_lexer": "ipython3",
   "version": "3.9.13"
  }
 },
 "nbformat": 4,
 "nbformat_minor": 4
}
