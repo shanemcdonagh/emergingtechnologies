{
 "cells": [
  {
   "cell_type": "markdown",
   "id": "775d5901-94d7-43a6-bd4b-da1c21426987",
   "metadata": {},
   "source": [
    "# Quantum Computing\n",
    "\n",
    "***\n",
    "\n",
    "https://qiskit.org/textbook/"
   ]
  },
  {
   "cell_type": "markdown",
   "id": "762e471e-6807-4353-b61e-39829fc10a18",
   "metadata": {},
   "source": [
    "## Flipping a Coin\n",
    "\n",
    "***"
   ]
  },
  {
   "cell_type": "code",
   "execution_count": 1,
   "id": "ccfafa55-7fc1-4c98-9c0c-1b7b13c7906a",
   "metadata": {},
   "outputs": [],
   "source": [
    "# Generating random numbers.\n",
    "import numpy as np\n",
    "\n",
    "# Plotting.\n",
    "import seaborn as sns\n",
    "\n",
    "# Random numbers and choices.\n",
    "import random\n",
    "\n",
    "# Combinations and permutation.\n",
    "import itertools"
   ]
  },
  {
   "cell_type": "code",
   "execution_count": 2,
   "id": "a31216a3-f089-4f8d-b3d6-95ed5f00f798",
   "metadata": {},
   "outputs": [
    {
     "data": {
      "text/plain": [
       "0"
      ]
     },
     "execution_count": 2,
     "metadata": {},
     "output_type": "execute_result"
    }
   ],
   "source": [
    "# Flip one coin.\n",
    "np.random.binomial(1, 0.5)"
   ]
  },
  {
   "cell_type": "code",
   "execution_count": 3,
   "id": "9301a644-0a97-471a-b09a-d9a794272227",
   "metadata": {},
   "outputs": [
    {
     "data": {
      "text/plain": [
       "array([1, 1, 1, 1, 1, 1, 0, 0, 1, 0, 1, 1, 0, 1, 0, 1, 0, 1, 1, 0, 1, 0,\n",
       "       0, 1, 0, 0, 1, 0, 1, 0, 0, 0, 1, 1, 1, 1, 1, 1, 1, 1, 0, 0, 0, 1,\n",
       "       0, 1, 0, 1, 1, 0, 1, 0, 0, 0, 0, 1, 0, 1, 0, 0, 0, 0, 1, 1, 1, 1,\n",
       "       1, 1, 1, 0, 0, 1, 0, 1, 0, 0, 1, 0, 1, 1, 1, 0, 1, 1, 0, 1, 0, 0,\n",
       "       0, 1, 1, 0, 0, 0, 1, 0, 0, 0, 0, 1])"
      ]
     },
     "execution_count": 3,
     "metadata": {},
     "output_type": "execute_result"
    }
   ],
   "source": [
    "# Flip one hundred coins.\n",
    "np.random.binomial(1, 0.5, 100)"
   ]
  },
  {
   "cell_type": "code",
   "execution_count": 4,
   "id": "36e71292-3730-4a8a-a269-b32bca1c7f81",
   "metadata": {},
   "outputs": [
    {
     "data": {
      "text/plain": [
       "55"
      ]
     },
     "execution_count": 4,
     "metadata": {},
     "output_type": "execute_result"
    }
   ],
   "source": [
    "# Flip a coin one hundred times, counting total heads.\n",
    "np.random.binomial(100, 0.5)"
   ]
  },
  {
   "cell_type": "code",
   "execution_count": 5,
   "id": "5473682d-1fa0-46fc-9ed6-54063d68b807",
   "metadata": {},
   "outputs": [
    {
     "data": {
      "image/png": "[encoded data removed]",
      "text/plain": [
       "<Figure size 432x288 with 1 Axes>"
      ]
     },
     "metadata": {
      "needs_background": "light"
     },
     "output_type": "display_data"
    }
   ],
   "source": [
    "# Should be roughly 50/50.\n",
    "sns.countplot(x=np.random.binomial(1, 0.5, 1000000));"
   ]
  },
  {
   "cell_type": "code",
   "execution_count": 6,
   "id": "ef69ba11-fb5a-468a-bd87-b32cdb23c145",
   "metadata": {},
   "outputs": [
    {
     "data": {
      "image/png": "[encoded data removed]",
      "text/plain": [
       "<Figure size 432x288 with 1 Axes>"
      ]
     },
     "metadata": {
      "needs_background": "light"
     },
     "output_type": "display_data"
    }
   ],
   "source": [
    "# Outcomes of flipping two coins.\n",
    "sns.countplot(x=np.random.binomial(2, 0.5, 1000000));"
   ]
  },
  {
   "cell_type": "code",
   "execution_count": 7,
   "id": "404b3892-b998-48b4-b1f0-00b1d8f1e4de",
   "metadata": {},
   "outputs": [
    {
     "data": {
      "image/png": "[encoded data removed]",
      "text/plain": [
       "<Figure size 432x288 with 1 Axes>"
      ]
     },
     "metadata": {
      "needs_background": "light"
     },
     "output_type": "display_data"
    }
   ],
   "source": [
    "# Outcomes of flipping three coins.\n",
    "sns.countplot(x=np.random.binomial(3, 0.5, 1000000));"
   ]
  },
  {
   "cell_type": "code",
   "execution_count": 8,
   "id": "2de0c8c4-97fa-4758-a780-b68b2b8678de",
   "metadata": {},
   "outputs": [
    {
     "data": {
      "image/png": "[encoded data removed]",
      "text/plain": [
       "<Figure size 432x288 with 1 Axes>"
      ]
     },
     "metadata": {
      "needs_background": "light"
     },
     "output_type": "display_data"
    }
   ],
   "source": [
    "# Outcomes of flipping fifty coins.\n",
    "sns.countplot(x=np.random.binomial(50, 0.5, 1000000));"
   ]
  },
  {
   "cell_type": "markdown",
   "id": "e6e2548c-902d-4133-bf4c-a1522129c25d",
   "metadata": {},
   "source": [
    "## Quantum Gates\n",
    "\n",
    "***"
   ]
  },
  {
   "cell_type": "code",
   "execution_count": 9,
   "id": "c1d56e9c-06cc-49ea-be21-9a83389ee420",
   "metadata": {},
   "outputs": [],
   "source": [
    "# Quantum Circuits and Simulators.\n",
    "import qiskit\n",
    "\n",
    "# Qiskit Visualisation.\n",
    "import qiskit.visualization as viz"
   ]
  },
  {
   "cell_type": "markdown",
   "id": "9c04bf99-64e3-4394-888d-d94c621e7c4a",
   "metadata": {},
   "source": [
    "### H Gate\n",
    "\n",
    "***\n",
    "\n",
    "$ H = \\frac{1}{\\sqrt{2}} \\begin{bmatrix} 1 & 1 \\\\ 1 & -1 \\end{bmatrix} \\qquad | 0 \\rangle = \\begin{bmatrix} 1 \\\\ 0 \\end{bmatrix}$\n",
    "\n",
    "$ H | 0 \\rangle = \\frac{1}{\\sqrt{2}} \\begin{bmatrix} 1 & 1 \\\\ 1 & -1 \\end{bmatrix} \\begin{bmatrix} 1 \\\\ 0 \\end{bmatrix} = \\frac{1}{\\sqrt{2}} \\begin{bmatrix} 1 \\\\ 1 \\end{bmatrix}$\n",
    "\n",
    "$P(0) = |\\frac{1}{\\sqrt{2}}|^2 = \\frac{1}{2}$\n",
    "\n",
    "$P(1) = |\\frac{1}{\\sqrt{2}}|^2 = \\frac{1}{2}$"
   ]
  },
  {
   "cell_type": "code",
   "execution_count": 10,
   "id": "b186831a-54ee-48a7-ab78-40cfa2d05306",
   "metadata": {},
   "outputs": [
    {
     "data": {
      "image/png": "[encoded data removed]",
      "text/plain": [
       "<Figure size 193.726x144.48 with 1 Axes>"
      ]
     },
     "execution_count": 10,
     "metadata": {},
     "output_type": "execute_result"
    }
   ],
   "source": [
    "# Create a circuit.\n",
    "circuit = qiskit.QuantumCircuit(1, 1)\n",
    "\n",
    "# Add a gate.\n",
    "circuit.h(0)\n",
    "\n",
    "# Measure.\n",
    "circuit.measure(0, 0)\n",
    "\n",
    "# Draw the circuit\n",
    "circuit.draw(output='mpl')"
   ]
  },
  {
   "cell_type": "code",
   "execution_count": 11,
   "id": "b8075f85-1728-418f-bcc6-aafaa182ef2a",
   "metadata": {},
   "outputs": [
    {
     "data": {
      "image/png": "[encoded data removed]",
      "text/plain": [
       "<Figure size 216x216 with 1 Axes>"
      ]
     },
     "execution_count": 11,
     "metadata": {},
     "output_type": "execute_result"
    }
   ],
   "source": [
    "# Get a simulator.\n",
    "sim = qiskit.Aer.get_backend('aer_simulator')\n",
    "\n",
    "# Simulte the circuit.\n",
    "result = sim.run(circuit).result().get_counts()\n",
    "\n",
    "# Histogram.\n",
    "viz.plot_histogram(result, figsize=(3, 3))"
   ]
  },
  {
   "cell_type": "markdown",
   "id": "ac0886c8-0b57-4963-b5c5-dcc0ef5b6967",
   "metadata": {},
   "source": [
    "### X Gate\n",
    "\n",
    "***\n",
    "\n",
    "$ X = \\begin{bmatrix} 0 & 1 \\\\ 1 & 0 \\end{bmatrix} \\qquad | 0 \\rangle = \\begin{bmatrix} 1 \\\\ 0 \\end{bmatrix}$\n",
    "\n",
    "$ X | 0 \\rangle = \\begin{bmatrix} 0 & 1 \\\\ 1 & 0 \\end{bmatrix} \\begin{bmatrix} 1 \\\\ 0 \\end{bmatrix} = \\begin{bmatrix} 0 \\\\ 1 \\end{bmatrix}$\n",
    "\n",
    "$P(0) = |0|^2 = 0$\n",
    "\n",
    "$P(1) = |1|^2 = 1$"
   ]
  },
  {
   "cell_type": "code",
   "execution_count": 12,
   "id": "2bd3d3c3-5272-4e97-b3d2-ee9d0a484345",
   "metadata": {},
   "outputs": [
    {
     "data": {
      "image/png": "[encoded data removed]",
      "text/plain": [
       "<Figure size 193.726x144.48 with 1 Axes>"
      ]
     },
     "execution_count": 12,
     "metadata": {},
     "output_type": "execute_result"
    }
   ],
   "source": [
    "# Create a circuit.\n",
    "circuit = qiskit.QuantumCircuit(1, 1)\n",
    "\n",
    "# Add a gate.\n",
    "circuit.x(0)\n",
    "\n",
    "# Measure.\n",
    "circuit.measure(0, 0)\n",
    "\n",
    "# Draw the circuit\n",
    "circuit.draw(output='mpl')"
   ]
  },
  {
   "cell_type": "code",
   "execution_count": 13,
   "id": "ff43572f-045e-4333-ac5a-82f677829e04",
   "metadata": {},
   "outputs": [
    {
     "data": {
      "image/png": "[encoded data removed]",
      "text/plain": [
       "<Figure size 216x216 with 1 Axes>"
      ]
     },
     "execution_count": 13,
     "metadata": {},
     "output_type": "execute_result"
    }
   ],
   "source": [
    "# Get a simulator.\n",
    "sim = qiskit.Aer.get_backend('aer_simulator')\n",
    "\n",
    "# Simulte the circuit.\n",
    "result = sim.run(circuit).result().get_counts()\n",
    "\n",
    "# Histogram.\n",
    "viz.plot_histogram(result, figsize=(3, 3))"
   ]
  },
  {
   "cell_type": "markdown",
   "id": "42189b4a-a4e1-4b62-80ff-a0fd0bc5ee13",
   "metadata": {},
   "source": [
    "### Y Gate\n",
    "\n",
    "***\n",
    "\n",
    "$ Y = \\begin{bmatrix} 0 & -i \\\\ i & 0 \\end{bmatrix} \\qquad | 0 \\rangle = \\begin{bmatrix} 1 \\\\ 0 \\end{bmatrix}$\n",
    "\n",
    "$ Y | 0 \\rangle = \\begin{bmatrix} 0 & -i \\\\ i & 0 \\end{bmatrix} \\begin{bmatrix} 1 \\\\ 0 \\end{bmatrix} = \\begin{bmatrix} 0 \\\\ i \\end{bmatrix}$\n",
    "\n",
    "$P(0) = |0|^2 = 0$\n",
    "\n",
    "$P(1) = |0+1i|^2 = 1$"
   ]
  },
  {
   "cell_type": "code",
   "execution_count": 61,
   "id": "f5eeac9f-bc2f-4539-b93c-ff0a6616bbfb",
   "metadata": {},
   "outputs": [
    {
     "data": {
      "image/png": "[encoded data removed]",
      "text/plain": [
       "<Figure size 193.726x144.48 with 1 Axes>"
      ]
     },
     "execution_count": 61,
     "metadata": {},
     "output_type": "execute_result"
    }
   ],
   "source": [
    "# Create a circuit.\n",
    "circuit = qiskit.QuantumCircuit(1, 1)\n",
    "\n",
    "# Add a gate.\n",
    "circuit.y(0)\n",
    "\n",
    "# Measure.\n",
    "circuit.measure(0, 0)\n",
    "\n",
    "# Draw the circuit\n",
    "circuit.draw(output='mpl')"
   ]
  },
  {
   "cell_type": "code",
   "execution_count": 93,
   "id": "a1ac72a0-6d74-4b42-89cd-7e08ed7c81d4",
   "metadata": {},
   "outputs": [
    {
     "data": {
      "image/png": "[encoded data removed]",
      "text/plain": [
       "<Figure size 216x216 with 1 Axes>"
      ]
     },
     "execution_count": 93,
     "metadata": {},
     "output_type": "execute_result"
    }
   ],
   "source": [
    "# Get a simulator.\n",
    "sim = qiskit.Aer.get_backend('aer_simulator')\n",
    "\n",
    "# Simulte the circuit.\n",
    "result = sim.run(circuit).result().get_counts()\n",
    "\n",
    "# Histogram.\n",
    "viz.plot_histogram(result, figsize=(3, 3))"
   ]
  },
  {
   "cell_type": "markdown",
   "id": "50d6357e-4dce-41be-8cf2-b27207ff1781",
   "metadata": {},
   "source": [
    "### Z Gate\n",
    "\n",
    "***\n",
    "\n",
    "$ Z = \\begin{bmatrix} 1 & 0 \\\\ 0 & -1 \\end{bmatrix} \\qquad | 0 \\rangle = \\begin{bmatrix} 1 \\\\ 0 \\end{bmatrix}$\n",
    "\n",
    "$ Z | 0 \\rangle = \\begin{bmatrix} 1 & 0 \\\\ 0 & -1 \\end{bmatrix} \\begin{bmatrix} 1 \\\\ 0 \\end{bmatrix} = \\begin{bmatrix} 1 \\\\ 0 \\end{bmatrix}$\n",
    "\n",
    "$P(0) = |1|^2 = 1$\n",
    "\n",
    "$P(1) = |0|^2 = 0$"
   ]
  },
  {
   "cell_type": "code",
   "execution_count": 16,
   "id": "201f7325-d464-4b71-96b9-f89ec980ad2b",
   "metadata": {},
   "outputs": [
    {
     "data": {
      "image/png": "[encoded data removed]",
      "text/plain": [
       "<Figure size 193.726x144.48 with 1 Axes>"
      ]
     },
     "execution_count": 16,
     "metadata": {},
     "output_type": "execute_result"
    }
   ],
   "source": [
    "# Create a circuit.\n",
    "circuit = qiskit.QuantumCircuit(1, 1)\n",
    "\n",
    "# Add a gate.\n",
    "circuit.z(0)\n",
    "\n",
    "# Measure.\n",
    "circuit.measure(0, 0)\n",
    "\n",
    "# Draw the circuit\n",
    "circuit.draw(output='mpl')"
   ]
  },
  {
   "cell_type": "code",
   "execution_count": 17,
   "id": "a199c8ba-e8d9-40bc-b894-3f0bbfa70746",
   "metadata": {},
   "outputs": [
    {
     "data": {
      "image/png": "[encoded data removed]",
      "text/plain": [
       "<Figure size 216x216 with 1 Axes>"
      ]
     },
     "execution_count": 17,
     "metadata": {},
     "output_type": "execute_result"
    }
   ],
   "source": [
    "# Get a simulator.\n",
    "sim = qiskit.Aer.get_backend('aer_simulator')\n",
    "\n",
    "# Simulte the circuit.\n",
    "result = sim.run(circuit).result().get_counts()\n",
    "\n",
    "# Histogram.\n",
    "viz.plot_histogram(result, figsize=(3, 3))"
   ]
  },
  {
   "cell_type": "markdown",
   "id": "f95400c9-34e3-4be7-b954-609bc41e79eb",
   "metadata": {},
   "source": [
    "### T Gate\n",
    "\n",
    "***\n",
    "\n",
    "$ T = \\begin{bmatrix} 1 & 0 \\\\ 0 & e^{i \\pi / 4} \\end{bmatrix} \\qquad | 0 \\rangle = \\begin{bmatrix} 1 \\\\ 0 \\end{bmatrix}$\n",
    "\n",
    "$ T | 0 \\rangle = \\begin{bmatrix}1 & 0 \\\\ 0 & e^{i \\pi / 4} \\end{bmatrix} \\begin{bmatrix} 1 \\\\ 0 \\end{bmatrix} = \\begin{bmatrix} 1 \\\\ 0 \\end{bmatrix}$\n",
    "\n",
    "$P(0) = |1|^2 = 1$\n",
    "\n",
    "$P(1) = |0|^2 = 0$"
   ]
  },
  {
   "cell_type": "code",
   "execution_count": 18,
   "id": "633bf892-de0a-4954-b166-5f5e8f09b083",
   "metadata": {},
   "outputs": [
    {
     "data": {
      "image/png": "[encoded data removed]",
      "text/plain": [
       "<Figure size 193.726x144.48 with 1 Axes>"
      ]
     },
     "execution_count": 18,
     "metadata": {},
     "output_type": "execute_result"
    }
   ],
   "source": [
    "# Create a circuit.\n",
    "circuit = qiskit.QuantumCircuit(1, 1)\n",
    "\n",
    "# Add a gate.\n",
    "circuit.t(0)\n",
    "\n",
    "# Measure.\n",
    "circuit.measure(0, 0)\n",
    "\n",
    "# Draw the circuit\n",
    "circuit.draw(output='mpl')"
   ]
  },
  {
   "cell_type": "code",
   "execution_count": 19,
   "id": "a3485028-b58c-43ff-899c-9e487aa30543",
   "metadata": {},
   "outputs": [
    {
     "data": {
      "image/png": "[encoded data removed]",
      "text/plain": [
       "<Figure size 216x216 with 1 Axes>"
      ]
     },
     "execution_count": 19,
     "metadata": {},
     "output_type": "execute_result"
    }
   ],
   "source": [
    "# Get a simulator.\n",
    "sim = qiskit.Aer.get_backend('aer_simulator')\n",
    "\n",
    "# Simulte the circuit.\n",
    "result = sim.run(circuit).result().get_counts()\n",
    "\n",
    "# Histogram.\n",
    "viz.plot_histogram(result, figsize=(3, 3))"
   ]
  },
  {
   "cell_type": "markdown",
   "id": "cf4712a5-de62-4379-a3bf-19bd4212704c",
   "metadata": {},
   "source": [
    "### Exercise\n",
    "\n",
    "***\n",
    "\n",
    "Re-run the above simulations with the qubit set initially to $|1\\rangle$.\n",
    "\n",
    "***"
   ]
  },
  {
   "cell_type": "markdown",
   "id": "a7942a1f-084e-4e93-a29b-619ffcbaa1d5",
   "metadata": {},
   "source": [
    "### CX Gate\n",
    "\n",
    "***"
   ]
  },
  {
   "cell_type": "code",
   "execution_count": 20,
   "id": "0ff3c383-49b5-4082-afbc-1bc27f5a6f1c",
   "metadata": {},
   "outputs": [
    {
     "data": {
      "image/png": "[encoded data removed]",
      "text/plain": [
       "<Figure size 267.052x204.68 with 1 Axes>"
      ]
     },
     "execution_count": 20,
     "metadata": {},
     "output_type": "execute_result"
    }
   ],
   "source": [
    "# Create a circuit.\n",
    "circuit = qiskit.QuantumCircuit(2, 2)\n",
    "\n",
    "# Add a gate.\n",
    "circuit.cnot(0, 1)\n",
    "\n",
    "# Measure.\n",
    "circuit.measure((0, 1), (0, 1))\n",
    "\n",
    "# Draw the circuit\n",
    "circuit.draw(output='mpl')"
   ]
  },
  {
   "cell_type": "code",
   "execution_count": 21,
   "id": "ab87a705-6a81-4b3d-afcf-71bbf4379fe1",
   "metadata": {},
   "outputs": [
    {
     "data": {
      "image/png": "[encoded data removed]",
      "text/plain": [
       "<Figure size 216x216 with 1 Axes>"
      ]
     },
     "execution_count": 21,
     "metadata": {},
     "output_type": "execute_result"
    }
   ],
   "source": [
    "# Get a simulator.\n",
    "sim = qiskit.Aer.get_backend('aer_simulator')\n",
    "\n",
    "# Simulte the circuit.\n",
    "result = sim.run(circuit).result().get_counts()\n",
    "\n",
    "# Histogram.\n",
    "viz.plot_histogram(result, figsize=(3, 3))"
   ]
  },
  {
   "cell_type": "markdown",
   "id": "fcb6f70c-c818-4d99-9219-f028ea183891",
   "metadata": {},
   "source": [
    "Setting control bit to something other than $|0\\rangle$."
   ]
  },
  {
   "cell_type": "code",
   "execution_count": 22,
   "id": "7b14603c-f3c2-4009-a9b0-370aa0d9468e",
   "metadata": {},
   "outputs": [
    {
     "data": {
      "image/png": "[encoded data removed]",
      "text/plain": [
       "<Figure size 387.452x204.68 with 1 Axes>"
      ]
     },
     "execution_count": 22,
     "metadata": {},
     "output_type": "execute_result"
    }
   ],
   "source": [
    "# Create a circuit.\n",
    "circuit = qiskit.QuantumCircuit(2, 2)\n",
    "\n",
    "# Set the first qubit to |1>.\n",
    "circuit.x(0)\n",
    "\n",
    "# Add a barrier.\n",
    "circuit.barrier()\n",
    "\n",
    "# Add a gate.\n",
    "circuit.cnot(0, 1)\n",
    "\n",
    "# Measure.\n",
    "circuit.measure((0, 1), (0, 1))\n",
    "\n",
    "# Draw the circuit\n",
    "circuit.draw(output='mpl')"
   ]
  },
  {
   "cell_type": "code",
   "execution_count": 23,
   "id": "cf63227e-3bd4-48f0-adc0-2e195add58d6",
   "metadata": {},
   "outputs": [
    {
     "data": {
      "image/png": "[encoded data removed]",
      "text/plain": [
       "<Figure size 216x216 with 1 Axes>"
      ]
     },
     "execution_count": 23,
     "metadata": {},
     "output_type": "execute_result"
    }
   ],
   "source": [
    "# Get a simulator.\n",
    "sim = qiskit.Aer.get_backend('aer_simulator')\n",
    "\n",
    "# Simulte the circuit.\n",
    "result = sim.run(circuit).result().get_counts()\n",
    "\n",
    "# Histogram.\n",
    "viz.plot_histogram(result, figsize=(3, 3))"
   ]
  },
  {
   "cell_type": "markdown",
   "id": "9e23f36c-1ff4-4ae4-89cf-d72c3163f919",
   "metadata": {},
   "source": [
    "Using a H gate."
   ]
  },
  {
   "cell_type": "code",
   "execution_count": 24,
   "id": "62d941c2-0289-4240-b3d9-026473ebae78",
   "metadata": {},
   "outputs": [
    {
     "data": {
      "image/png": "[encoded data removed]",
      "text/plain": [
       "<Figure size 327.252x204.68 with 1 Axes>"
      ]
     },
     "execution_count": 24,
     "metadata": {},
     "output_type": "execute_result"
    }
   ],
   "source": [
    "# Create a circuit.\n",
    "circuit = qiskit.QuantumCircuit(2, 2)\n",
    "\n",
    "# Apply H gate to first qubit.\n",
    "circuit.h(0)\n",
    "\n",
    "# Add a gate.\n",
    "circuit.cnot(0, 1)\n",
    "\n",
    "# Measure.\n",
    "circuit.measure((0, 1), (0, 1))\n",
    "\n",
    "# Draw the circuit\n",
    "circuit.draw(output='mpl')"
   ]
  },
  {
   "cell_type": "code",
   "execution_count": 25,
   "id": "4a138df6-8d35-4d99-9f75-2832f8707aec",
   "metadata": {},
   "outputs": [
    {
     "data": {
      "image/png": "[encoded data removed]",
      "text/plain": [
       "<Figure size 216x216 with 1 Axes>"
      ]
     },
     "execution_count": 25,
     "metadata": {},
     "output_type": "execute_result"
    }
   ],
   "source": [
    "# Get a simulator.\n",
    "sim = qiskit.Aer.get_backend('aer_simulator')\n",
    "\n",
    "# Simulte the circuit.\n",
    "result = sim.run(circuit).result().get_counts()\n",
    "\n",
    "# Histogram.\n",
    "viz.plot_histogram(result, figsize=(3, 3))"
   ]
  },
  {
   "cell_type": "markdown",
   "id": "c5acc525-1e9f-4e75-a826-13c10d7177bb",
   "metadata": {},
   "source": [
    "Only measure one qubit."
   ]
  },
  {
   "cell_type": "code",
   "execution_count": 26,
   "id": "3094688f-0fb3-4f78-824f-62522ca9642b",
   "metadata": {},
   "outputs": [
    {
     "data": {
      "image/png": "[encoded data removed]",
      "text/plain": [
       "<Figure size 267.052x204.68 with 1 Axes>"
      ]
     },
     "execution_count": 26,
     "metadata": {},
     "output_type": "execute_result"
    }
   ],
   "source": [
    "# Create a circuit.\n",
    "circuit = qiskit.QuantumCircuit(2, 1)\n",
    "\n",
    "# Apply H gate to first qubit.\n",
    "circuit.h(0)\n",
    "\n",
    "# Add a gate.\n",
    "circuit.cnot(0, 1)\n",
    "\n",
    "# Measure.\n",
    "circuit.measure(0, 0)\n",
    "\n",
    "# Draw the circuit\n",
    "circuit.draw(output='mpl')"
   ]
  },
  {
   "cell_type": "code",
   "execution_count": 27,
   "id": "caaecf8a-759c-4c4b-9d8e-529a7cd2440c",
   "metadata": {},
   "outputs": [
    {
     "data": {
      "image/png": "[encoded data removed]",
      "text/plain": [
       "<Figure size 216x216 with 1 Axes>"
      ]
     },
     "execution_count": 27,
     "metadata": {},
     "output_type": "execute_result"
    }
   ],
   "source": [
    "# Get a simulator.\n",
    "sim = qiskit.Aer.get_backend('aer_simulator')\n",
    "\n",
    "# Simulte the circuit.\n",
    "result = sim.run(circuit).result().get_counts()\n",
    "\n",
    "# Histogram.\n",
    "viz.plot_histogram(result, figsize=(3, 3))"
   ]
  },
  {
   "cell_type": "markdown",
   "id": "8682ff72",
   "metadata": {},
   "source": [
    "## Deutsch Algorithm\n",
    "\n",
    "***"
   ]
  },
  {
   "cell_type": "code",
   "execution_count": 28,
   "id": "2817e16b",
   "metadata": {},
   "outputs": [],
   "source": [
    "def f1(x):\n",
    "    if x == 0:\n",
    "        return 0\n",
    "    else:\n",
    "        return 0"
   ]
  },
  {
   "cell_type": "code",
   "execution_count": 29,
   "id": "c6fc826d",
   "metadata": {},
   "outputs": [],
   "source": [
    "def f2(x):\n",
    "    if x == 0:\n",
    "        return 0\n",
    "    else:\n",
    "        return 1"
   ]
  },
  {
   "cell_type": "code",
   "execution_count": 30,
   "id": "e76b21bf",
   "metadata": {},
   "outputs": [],
   "source": [
    "def f3(x):\n",
    "    if x == 0:\n",
    "        return 1\n",
    "    else:\n",
    "        return 0"
   ]
  },
  {
   "cell_type": "code",
   "execution_count": 31,
   "id": "498d252f",
   "metadata": {},
   "outputs": [],
   "source": [
    "def f4(x):\n",
    "    if x == 0:\n",
    "        return 1\n",
    "    else:\n",
    "        return 1"
   ]
  },
  {
   "cell_type": "code",
   "execution_count": 32,
   "id": "41b043dd",
   "metadata": {},
   "outputs": [],
   "source": [
    "L = [f1, f2, f3, f4]"
   ]
  },
  {
   "cell_type": "code",
   "execution_count": 33,
   "id": "92d08c8d",
   "metadata": {},
   "outputs": [],
   "source": [
    "f = random.choice(L)"
   ]
  },
  {
   "cell_type": "code",
   "execution_count": 34,
   "id": "b801a55d",
   "metadata": {},
   "outputs": [
    {
     "data": {
      "text/plain": [
       "0"
      ]
     },
     "execution_count": 34,
     "metadata": {},
     "output_type": "execute_result"
    }
   ],
   "source": [
    "f(0)"
   ]
  },
  {
   "cell_type": "code",
   "execution_count": 35,
   "id": "fd6e88e0",
   "metadata": {},
   "outputs": [
    {
     "data": {
      "text/plain": [
       "0"
      ]
     },
     "execution_count": 35,
     "metadata": {},
     "output_type": "execute_result"
    }
   ],
   "source": [
    "f(1)"
   ]
  },
  {
   "cell_type": "code",
   "execution_count": 36,
   "id": "aaf4ea52",
   "metadata": {},
   "outputs": [
    {
     "data": {
      "text/plain": [
       "<function __main__.f1(x)>"
      ]
     },
     "execution_count": 36,
     "metadata": {},
     "output_type": "execute_result"
    }
   ],
   "source": [
    "f"
   ]
  },
  {
   "cell_type": "code",
   "execution_count": 37,
   "id": "5f8ded31",
   "metadata": {},
   "outputs": [
    {
     "data": {
      "text/plain": [
       "[(0, 0, 0),\n",
       " (0, 0, 1),\n",
       " (0, 1, 0),\n",
       " (0, 1, 1),\n",
       " (1, 0, 0),\n",
       " (1, 0, 1),\n",
       " (1, 1, 0),\n",
       " (1, 1, 1)]"
      ]
     },
     "execution_count": 37,
     "metadata": {},
     "output_type": "execute_result"
    }
   ],
   "source": [
    "list(itertools.product([0,1], repeat=3))"
   ]
  },
  {
   "cell_type": "code",
   "execution_count": 38,
   "id": "f7e3e6f0",
   "metadata": {},
   "outputs": [
    {
     "data": {
      "text/plain": [
       "[(0, 0), (0, 1), (1, 0), (1, 1)]"
      ]
     },
     "execution_count": 38,
     "metadata": {},
     "output_type": "execute_result"
    }
   ],
   "source": [
    "list(itertools.product([0,1], repeat=2))"
   ]
  },
  {
   "cell_type": "code",
   "execution_count": 39,
   "id": "37b5bafa",
   "metadata": {},
   "outputs": [],
   "source": [
    "def random_f():\n",
    "    possible_Ls = list(itertools.product([0,1], repeat=2))\n",
    "    L = random.choice(possible_Ls)\n",
    "    def f(x):\n",
    "        return L[x]\n",
    "    return f"
   ]
  },
  {
   "cell_type": "code",
   "execution_count": 40,
   "id": "eeeb1e43",
   "metadata": {},
   "outputs": [],
   "source": [
    "f = random_f()"
   ]
  },
  {
   "cell_type": "code",
   "execution_count": 41,
   "id": "2bac622a",
   "metadata": {},
   "outputs": [
    {
     "data": {
      "text/plain": [
       "1"
      ]
     },
     "execution_count": 41,
     "metadata": {},
     "output_type": "execute_result"
    }
   ],
   "source": [
    "f(0)"
   ]
  },
  {
   "cell_type": "code",
   "execution_count": 42,
   "id": "de45c390",
   "metadata": {},
   "outputs": [
    {
     "data": {
      "text/plain": [
       "0"
      ]
     },
     "execution_count": 42,
     "metadata": {},
     "output_type": "execute_result"
    }
   ],
   "source": [
    "f(1)"
   ]
  },
  {
   "cell_type": "markdown",
   "id": "264828ab",
   "metadata": {},
   "source": [
    "## Exercise\n",
    "\n",
    "\n",
    "Adapt random_f to generate a random function that takes 3 bits (0 or 1 values) as input and returns a single bit.\n",
    "\n",
    "***"
   ]
  },
  {
   "cell_type": "markdown",
   "id": "e82a01c3",
   "metadata": {},
   "source": [
    "## Exercise\n",
    "\n",
    "Adapt random_f to generate a random function that is either constant or balanced, that takes 3 bits (0 or 1 values) as input and returns a single bit.\n",
    "\n",
    "***"
   ]
  },
  {
   "cell_type": "markdown",
   "id": "88bcde30",
   "metadata": {},
   "source": [
    "## Oracles\n",
    "\n",
    "***"
   ]
  },
  {
   "cell_type": "code",
   "execution_count": 43,
   "id": "5bd2a67d",
   "metadata": {},
   "outputs": [
    {
     "data": {
      "image/png": "[encoded data removed]",
      "text/plain": [
       "<Figure size 267.052x204.68 with 1 Axes>"
      ]
     },
     "execution_count": 43,
     "metadata": {},
     "output_type": "execute_result"
    }
   ],
   "source": [
    "top = qiskit.QuantumCircuit(2, 1)\n",
    "\n",
    "top.initialize((1, 0), 0)\n",
    "\n",
    "top.initialize((0, 1), 1)\n",
    "\n",
    "top.h((0, 1))\n",
    "\n",
    "top.barrier()\n",
    "\n",
    "top.draw(output='mpl')"
   ]
  },
  {
   "cell_type": "code",
   "execution_count": 44,
   "id": "40deab5c",
   "metadata": {},
   "outputs": [
    {
     "data": {
      "image/png": "[encoded data removed]",
      "text/plain": [
       "<Figure size 267.052x204.68 with 1 Axes>"
      ]
     },
     "execution_count": 44,
     "metadata": {},
     "output_type": "execute_result"
    }
   ],
   "source": [
    "end = qiskit.QuantumCircuit(2, 1)\n",
    "\n",
    "end.barrier()\n",
    "\n",
    "end.h(0)\n",
    "\n",
    "end.measure(0, 0)\n",
    "\n",
    "end.draw(output='mpl')"
   ]
  },
  {
   "cell_type": "markdown",
   "id": "bd138349",
   "metadata": {},
   "source": [
    "### Constant 0 Function\n",
    "\n",
    "$f_1(0) = 0$\n",
    "\n",
    "$f_1(1) = 0$\n",
    "\n",
    "$\n",
    "\\begin{array}{cccc}\n",
    "x & y & f(x) & y \\bigoplus f(x) \\\\\n",
    "\\hline\n",
    "0 & 0 & 0 & 0 \\\\\n",
    "0 & 1 & 0 & 1 \\\\\n",
    "1 & 0 & 0 & 0 \\\\\n",
    "1 & 1 & 0 & 1 \\\\\n",
    "\\end{array}\n",
    "$\n",
    "\n",
    "$\n",
    "\\begin{array}{ccl}\n",
    "\\ket{xy} & \\rightarrow & \\ket{x(y \\bigoplus f(x))} \\\\\n",
    "\\ket{00} & \\rightarrow & \\ket{00} \\\\\n",
    "\\ket{01} & \\rightarrow & \\ket{01} \\\\\n",
    "\\ket{10} & \\rightarrow & \\ket{10} \\\\\n",
    "\\ket{11} & \\rightarrow & \\ket{11} \\\\\n",
    "\\end{array}\n",
    "$"
   ]
  },
  {
   "cell_type": "code",
   "execution_count": 45,
   "id": "ca068464",
   "metadata": {},
   "outputs": [
    {
     "data": {
      "image/png": "[encoded data removed]",
      "text/plain": [
       "<Figure size 146.652x204.68 with 1 Axes>"
      ]
     },
     "execution_count": 45,
     "metadata": {},
     "output_type": "execute_result"
    }
   ],
   "source": [
    "f1 = qiskit.QuantumCircuit(2, 1)\n",
    "\n",
    "f1.i((0, 1))\n",
    "\n",
    "f1.draw(output='mpl')"
   ]
  },
  {
   "cell_type": "code",
   "execution_count": 46,
   "id": "13f03336",
   "metadata": {},
   "outputs": [
    {
     "name": "stderr",
     "output_type": "stream",
     "text": [
      "C:\\Users\\shane\\AppData\\Local\\Temp/ipykernel_9608/2062471468.py:1: DeprecationWarning: The QuantumCircuit.__add__() method is being deprecated.Use the compose() method which is more flexible w.r.t circuit register compatibility.\n",
      "  circuit = top + f1 + end\n"
     ]
    },
    {
     "data": {
      "image/png": "[encoded data removed]",
      "text/plain": [
       "<Figure size 507.852x204.68 with 1 Axes>"
      ]
     },
     "execution_count": 46,
     "metadata": {},
     "output_type": "execute_result"
    }
   ],
   "source": [
    "circuit = top + f1 + end\n",
    "\n",
    "circuit.draw(output='mpl')"
   ]
  },
  {
   "cell_type": "code",
   "execution_count": 47,
   "id": "28a15b51",
   "metadata": {},
   "outputs": [
    {
     "name": "stdout",
     "output_type": "stream",
     "text": [
      "{'0': 1024}\n"
     ]
    }
   ],
   "source": [
    "sim = qiskit.Aer.get_backend('aer_simulator')\n",
    "\n",
    "result = sim.run(circuit).result().get_counts()\n",
    "\n",
    "print(result)"
   ]
  },
  {
   "cell_type": "markdown",
   "id": "1e842b13",
   "metadata": {},
   "source": [
    "### Constant 1 Function\n",
    "\n",
    "$f_1(0) = 1$\n",
    "\n",
    "$f_1(1) = 1$\n",
    "\n",
    "$\n",
    "\\begin{array}{cccc}\n",
    "x & y & f(x) & y \\bigoplus f(x) \\\\\n",
    "\\hline\n",
    "0 & 0 & 1 & 1 \\\\\n",
    "0 & 1 & 1 & 0 \\\\\n",
    "1 & 0 & 1 & 1 \\\\\n",
    "1 & 1 & 1 & 0 \\\\\n",
    "\\end{array}\n",
    "$\n",
    "\n",
    "$\n",
    "\\begin{array}{ccl}\n",
    "\\ket{xy} & \\rightarrow & \\ket{x(y \\bigoplus f(x))} \\\\\n",
    "\\ket{00} & \\rightarrow & \\ket{01} \\\\\n",
    "\\ket{01} & \\rightarrow & \\ket{00} \\\\\n",
    "\\ket{10} & \\rightarrow & \\ket{11} \\\\\n",
    "\\ket{11} & \\rightarrow & \\ket{10} \\\\\n",
    "\\end{array}\n",
    "$\n",
    "\n",
    "$\n",
    "\\begin{bmatrix}\n",
    "0 & 1 & 0 & 0 \\\\\n",
    "1 & 0 & 0 & 0 \\\\\n",
    "0 & 0 & 0 & 1 \\\\\n",
    "0 & 0 & 1 & 0\n",
    "\\end{bmatrix}\n",
    "\\begin{bmatrix}\n",
    "a \\\\\n",
    "b \\\\\n",
    "c \\\\\n",
    "d\n",
    "\\end{bmatrix}=\n",
    "\\begin{bmatrix}\n",
    "b \\\\\n",
    "a \\\\\n",
    "d \\\\\n",
    "c\n",
    "\\end{bmatrix}\n",
    "$\n",
    "\n",
    "$\n",
    "\\begin{bmatrix}\n",
    "0 & 1 & 0 & 0 \\\\\n",
    "1 & 0 & 0 & 0 \\\\\n",
    "0 & 0 & 0 & 1 \\\\\n",
    "0 & 0 & 1 & 0\n",
    "\\end{bmatrix} = \n",
    "\\begin{bmatrix}\n",
    "1 & 0 \\\\\n",
    "0 & 1\n",
    "\\end{bmatrix}\\bigotimes\n",
    "\\begin{bmatrix}\n",
    "0 & 1 \\\\\n",
    "1 & 0\n",
    "\\end{bmatrix} = I \\bigotimes X\n",
    "$"
   ]
  },
  {
   "cell_type": "code",
   "execution_count": 48,
   "id": "3dfdfc4a",
   "metadata": {},
   "outputs": [
    {
     "data": {
      "image/png": "[encoded data removed]",
      "text/plain": [
       "<Figure size 146.652x204.68 with 1 Axes>"
      ]
     },
     "execution_count": 48,
     "metadata": {},
     "output_type": "execute_result"
    }
   ],
   "source": [
    "f4 = qiskit.QuantumCircuit(2, 1)\n",
    "\n",
    "f4.i(0)\n",
    "\n",
    "f4.x(1)\n",
    "\n",
    "f4.draw(output='mpl')"
   ]
  },
  {
   "cell_type": "code",
   "execution_count": 49,
   "id": "d9f855dc",
   "metadata": {},
   "outputs": [
    {
     "name": "stderr",
     "output_type": "stream",
     "text": [
      "C:\\Users\\shane\\AppData\\Local\\Temp/ipykernel_9608/2403865204.py:1: DeprecationWarning: The QuantumCircuit.__add__() method is being deprecated.Use the compose() method which is more flexible w.r.t circuit register compatibility.\n",
      "  circuit = top + f4 + end\n"
     ]
    },
    {
     "data": {
      "image/png": "[encoded data removed]",
      "text/plain": [
       "<Figure size 507.852x204.68 with 1 Axes>"
      ]
     },
     "execution_count": 49,
     "metadata": {},
     "output_type": "execute_result"
    }
   ],
   "source": [
    "circuit = top + f4 + end\n",
    "\n",
    "circuit.draw(output='mpl')"
   ]
  },
  {
   "cell_type": "code",
   "execution_count": 50,
   "id": "24fccf85",
   "metadata": {},
   "outputs": [
    {
     "name": "stdout",
     "output_type": "stream",
     "text": [
      "{'0': 1024}\n"
     ]
    }
   ],
   "source": [
    "sim = qiskit.Aer.get_backend('aer_simulator')\n",
    "\n",
    "result = sim.run(circuit).result().get_counts()\n",
    "\n",
    "print(result)"
   ]
  },
  {
   "cell_type": "markdown",
   "id": "ec6e8f0e",
   "metadata": {},
   "source": [
    "### Balanced Identity Function\n",
    "\n",
    "$f_2(0) = 0$\n",
    "\n",
    "$f_2(1) = 1$\n",
    "\n",
    "$\n",
    "\\begin{array}{cccc}\n",
    "x & y & f(x) & y \\bigoplus f(x) \\\\\n",
    "\\hline\n",
    "0 & 0 & 0 & 0 \\\\\n",
    "0 & 1 & 0 & 1 \\\\\n",
    "1 & 0 & 1 & 1 \\\\\n",
    "1 & 1 & 1 & 0 \\\\\n",
    "\\end{array}\n",
    "$\n",
    "\n",
    "$\n",
    "\\begin{array}{ccl}\n",
    "\\ket{xy} & \\rightarrow & \\ket{x(y \\bigoplus f(x))} \\\\\n",
    "\\ket{00} & \\rightarrow & \\ket{00} \\\\\n",
    "\\ket{01} & \\rightarrow & \\ket{01} \\\\\n",
    "\\ket{10} & \\rightarrow & \\ket{11} \\\\\n",
    "\\ket{11} & \\rightarrow & \\ket{10} \\\\\n",
    "\\end{array}\n",
    "$\n",
    "\n",
    "$\n",
    "\\begin{bmatrix}\n",
    "1 & 0 & 0 & 0 \\\\\n",
    "0 & 1 & 0 & 0 \\\\\n",
    "0 & 0 & 0 & 1 \\\\\n",
    "0 & 0 & 1 & 0\n",
    "\\end{bmatrix}\n",
    "\\begin{bmatrix}\n",
    "a \\\\\n",
    "b \\\\\n",
    "c \\\\\n",
    "d\n",
    "\\end{bmatrix}=\n",
    "\\begin{bmatrix}\n",
    "a \\\\\n",
    "b \\\\\n",
    "d \\\\\n",
    "c\n",
    "\\end{bmatrix}\n",
    "$\n",
    "\n",
    "$\n",
    "\\begin{bmatrix}\n",
    "1 & 0 & 0 & 0 \\\\\n",
    "0 & 1 & 0 & 0 \\\\\n",
    "0 & 0 & 0 & 1 \\\\\n",
    "0 & 0 & 1 & 0\n",
    "\\end{bmatrix} \\stackrel{?}{=}\n",
    "\\begin{bmatrix}\n",
    "a & b \\\\\n",
    "c & d\n",
    "\\end{bmatrix}\\bigotimes\n",
    "\\begin{bmatrix}\n",
    "e & f \\\\\n",
    "g & h\n",
    "\\end{bmatrix}\n",
    "$\n",
    "\n",
    "$ae = 1 \\Rightarrow a \\neq 0$\n",
    "\n",
    "$dg = 1 \\Rightarrow g \\neq 0$\n",
    "\n",
    "$ag = 0 \\Rightarrow a = 0 \\ \\textrm{or} \\ g = 0$\n"
   ]
  },
  {
   "cell_type": "code",
   "execution_count": 51,
   "id": "440527ae",
   "metadata": {},
   "outputs": [
    {
     "data": {
      "image/png": "[encoded data removed]",
      "text/plain": [
       "<Figure size 146.652x204.68 with 1 Axes>"
      ]
     },
     "execution_count": 51,
     "metadata": {},
     "output_type": "execute_result"
    }
   ],
   "source": [
    "f2 = qiskit.QuantumCircuit(2, 1)\n",
    "\n",
    "f2.cnot(0, 1)\n",
    "\n",
    "f2.draw(output='mpl')"
   ]
  },
  {
   "cell_type": "code",
   "execution_count": 52,
   "id": "c196c46b",
   "metadata": {},
   "outputs": [
    {
     "name": "stderr",
     "output_type": "stream",
     "text": [
      "C:\\Users\\shane\\AppData\\Local\\Temp/ipykernel_9608/3939406040.py:1: DeprecationWarning: The QuantumCircuit.__add__() method is being deprecated.Use the compose() method which is more flexible w.r.t circuit register compatibility.\n",
      "  circuit = top + f2 + end\n"
     ]
    },
    {
     "data": {
      "image/png": "[encoded data removed]",
      "text/plain": [
       "<Figure size 507.852x204.68 with 1 Axes>"
      ]
     },
     "execution_count": 52,
     "metadata": {},
     "output_type": "execute_result"
    }
   ],
   "source": [
    "circuit = top + f2 + end\n",
    "\n",
    "circuit.draw(output='mpl')"
   ]
  },
  {
   "cell_type": "code",
   "execution_count": 53,
   "id": "ad6bf0b9",
   "metadata": {},
   "outputs": [
    {
     "name": "stdout",
     "output_type": "stream",
     "text": [
      "{'1': 1024}\n"
     ]
    }
   ],
   "source": [
    "sim = qiskit.Aer.get_backend('aer_simulator')\n",
    "\n",
    "result = sim.run(circuit).result().get_counts()\n",
    "\n",
    "print(result)"
   ]
  },
  {
   "cell_type": "markdown",
   "id": "3d05d5a1",
   "metadata": {},
   "source": [
    "### Balanced Not Function\n",
    "\n",
    "$f_3(0) = 1$\n",
    "\n",
    "$f_3(1) = 0$\n",
    "\n",
    "$\n",
    "\\begin{array}{cccc}\n",
    "x & y & f(x) & y \\bigoplus f(x) \\\\\n",
    "\\hline\n",
    "0 & 0 & 1 & 1 \\\\\n",
    "0 & 1 & 1 & 0 \\\\\n",
    "1 & 0 & 0 & 0 \\\\\n",
    "1 & 1 & 0 & 1 \\\\\n",
    "\\end{array}\n",
    "$\n",
    "\n",
    "$\n",
    "\\begin{array}{ccl}\n",
    "\\ket{xy} & \\rightarrow & \\ket{x(y \\bigoplus f(x))} \\\\\n",
    "\\ket{00} & \\rightarrow & \\ket{01} \\\\\n",
    "\\ket{01} & \\rightarrow & \\ket{00} \\\\\n",
    "\\ket{10} & \\rightarrow & \\ket{10} \\\\\n",
    "\\ket{11} & \\rightarrow & \\ket{11} \\\\\n",
    "\\end{array}\n",
    "$\n",
    "\n",
    "$\n",
    "\\begin{bmatrix}\n",
    "0 & 1 & 0 & 0 \\\\\n",
    "1 & 0 & 0 & 0 \\\\\n",
    "0 & 0 & 1 & 0 \\\\\n",
    "0 & 0 & 0 & 1\n",
    "\\end{bmatrix}\n",
    "\\begin{bmatrix}\n",
    "a \\\\\n",
    "b \\\\\n",
    "c \\\\\n",
    "d\n",
    "\\end{bmatrix}=\n",
    "\\begin{bmatrix}\n",
    "b \\\\\n",
    "a \\\\\n",
    "c \\\\\n",
    "d\n",
    "\\end{bmatrix}\n",
    "$\n",
    "\n",
    "$\n",
    "\\begin{bmatrix}\n",
    "0 & 1 & 0 & 0 \\\\\n",
    "1 & 0 & 0 & 0 \\\\\n",
    "0 & 0 & 1 & 0 \\\\\n",
    "0 & 0 & 0 & 1\n",
    "\\end{bmatrix} \\stackrel{?}{=}\n",
    "\\begin{bmatrix}\n",
    "a & b \\\\\n",
    "c & d\n",
    "\\end{bmatrix}\\bigotimes\n",
    "\\begin{bmatrix}\n",
    "e & f \\\\\n",
    "g & h\n",
    "\\end{bmatrix}\n",
    "$\n",
    "\n",
    "$ag = 1 \\Rightarrow a \\neq 0$\n",
    "\n",
    "$de = 1 \\Rightarrow e \\neq 0$\n",
    "\n",
    "$ae = 0 \\Rightarrow a = 0 \\ \\textrm{or} \\ e = 0$\n",
    "\n",
    "\n",
    "$\n",
    "\\begin{bmatrix}\n",
    "0 & 1 & 0 & 0 \\\\\n",
    "1 & 0 & 0 & 0 \\\\\n",
    "0 & 0 & 1 & 0 \\\\\n",
    "0 & 0 & 0 & 1\n",
    "\\end{bmatrix} =\n",
    "\\begin{bmatrix}\n",
    "0 & 1 & 0 & 0 \\\\\n",
    "1 & 0 & 0 & 0 \\\\\n",
    "0 & 0 & 0 & 1 \\\\\n",
    "0 & 0 & 1 & 0\n",
    "\\end{bmatrix}\n",
    "\\begin{bmatrix}\n",
    "1 & 0 & 0 & 0 \\\\\n",
    "0 & 1 & 0 & 0 \\\\\n",
    "0 & 0 & 0 & 1 \\\\\n",
    "0 & 0 & 1 & 0\n",
    "\\end{bmatrix}=\n",
    "(I \\bigotimes X)CNOT\n",
    "$"
   ]
  },
  {
   "cell_type": "code",
   "execution_count": 54,
   "id": "db318662",
   "metadata": {},
   "outputs": [
    {
     "data": {
      "image/png": "[encoded data removed]",
      "text/plain": [
       "<Figure size 206.852x204.68 with 1 Axes>"
      ]
     },
     "execution_count": 54,
     "metadata": {},
     "output_type": "execute_result"
    }
   ],
   "source": [
    "f3 = qiskit.QuantumCircuit(2, 1)\n",
    "\n",
    "f3.i(0)\n",
    "\n",
    "f3.x(1)\n",
    "\n",
    "f3.cnot(0, 1)\n",
    "\n",
    "f3.draw(output='mpl')"
   ]
  },
  {
   "cell_type": "code",
   "execution_count": 55,
   "id": "91523198",
   "metadata": {},
   "outputs": [
    {
     "name": "stderr",
     "output_type": "stream",
     "text": [
      "C:\\Users\\shane\\AppData\\Local\\Temp/ipykernel_9608/4073677338.py:1: DeprecationWarning: The QuantumCircuit.__add__() method is being deprecated.Use the compose() method which is more flexible w.r.t circuit register compatibility.\n",
      "  circuit = top + f3 + end\n"
     ]
    },
    {
     "data": {
      "image/png": "[encoded data removed]",
      "text/plain": [
       "<Figure size 568.052x204.68 with 1 Axes>"
      ]
     },
     "execution_count": 55,
     "metadata": {},
     "output_type": "execute_result"
    }
   ],
   "source": [
    "circuit = top + f3 + end\n",
    "\n",
    "circuit.draw(output='mpl')"
   ]
  },
  {
   "cell_type": "code",
   "execution_count": 56,
   "id": "8d72da6d",
   "metadata": {},
   "outputs": [
    {
     "name": "stdout",
     "output_type": "stream",
     "text": [
      "{'1': 1024}\n"
     ]
    }
   ],
   "source": [
    "sim = qiskit.Aer.get_backend('aer_simulator')\n",
    "\n",
    "result = sim.run(circuit).result().get_counts()\n",
    "\n",
    "print(result)"
   ]
  },
  {
   "cell_type": "markdown",
   "id": "dd32d237",
   "metadata": {},
   "source": [
    "## Random Oracle\n",
    "\n",
    "***"
   ]
  },
  {
   "cell_type": "code",
   "execution_count": 57,
   "id": "b08247be",
   "metadata": {},
   "outputs": [],
   "source": [
    "oracles = [f1, f2, f3, f4]\n",
    "\n",
    "oracle = random.choice(oracles)"
   ]
  },
  {
   "cell_type": "code",
   "execution_count": 58,
   "id": "48aa2913",
   "metadata": {},
   "outputs": [
    {
     "name": "stderr",
     "output_type": "stream",
     "text": [
      "C:\\Users\\shane\\AppData\\Local\\Temp/ipykernel_9608/1246211029.py:1: DeprecationWarning: The QuantumCircuit.__add__() method is being deprecated.Use the compose() method which is more flexible w.r.t circuit register compatibility.\n",
      "  circuit = top + oracle + end\n"
     ]
    },
    {
     "data": {
      "image/png": "[encoded data removed]",
      "text/plain": [
       "<Figure size 507.852x204.68 with 1 Axes>"
      ]
     },
     "execution_count": 58,
     "metadata": {},
     "output_type": "execute_result"
    }
   ],
   "source": [
    "circuit = top + oracle + end\n",
    "\n",
    "circuit.draw(output='mpl')"
   ]
  },
  {
   "cell_type": "code",
   "execution_count": 59,
   "id": "0de26287",
   "metadata": {},
   "outputs": [
    {
     "name": "stdout",
     "output_type": "stream",
     "text": [
      "{'1': 1024}\n"
     ]
    }
   ],
   "source": [
    "sim = qiskit.Aer.get_backend('aer_simulator')\n",
    "\n",
    "result = sim.run(circuit).result().get_counts()\n",
    "\n",
    "print(result)"
   ]
  },
  {
   "cell_type": "code",
   "execution_count": 60,
   "id": "0e855edf",
   "metadata": {},
   "outputs": [
    {
     "name": "stdout",
     "output_type": "stream",
     "text": [
      "Balanced\n"
     ]
    }
   ],
   "source": [
    "if '1' in result:\n",
    "    print('Balanced')\n",
    "else:\n",
    "    print('Constant')"
   ]
  },
  {
   "cell_type": "markdown",
   "id": "f71b6605-e7a4-46b7-be0f-4696c416bb68",
   "metadata": {},
   "source": [
    "***\n",
    "## End"
   ]
  }
 ],
 "metadata": {
  "kernelspec": {
   "display_name": "Python 3 (ipykernel)",
   "language": "python",
   "name": "python3"
  },
  "language_info": {
   "codemirror_mode": {
    "name": "ipython",
    "version": 3
   },
   "file_extension": ".py",
   "mimetype": "text/x-python",
   "name": "python",
   "nbconvert_exporter": "python",
   "pygments_lexer": "ipython3",
   "version": "3.9.7"
  },
  "vscode": {
   "interpreter": {
    "hash": "b7a3e6b4fd55e608e5eed575dbd854496c7752b86d9d1aa8a18640858c85b542"
   }
  }
 },
 "nbformat": 4,
 "nbformat_minor": 5
}
