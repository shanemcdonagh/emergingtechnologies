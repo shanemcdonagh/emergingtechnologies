{
 "cells": [
  {
   "cell_type": "markdown",
   "metadata": {},
   "source": [
    "<h1 style=\"color: #005b5e;\">GitHub Pages and Actions</h1>\n",
    "\n",
    "<hr style=\"border-top: 1px solid #005b5e;\" />\n",
    "\n",
    "This notebook is about GitHub Pages and GitHub Actions."
   ]
  },
  {
   "cell_type": "markdown",
   "metadata": {},
   "source": [
    "<h2 style=\"color: #005b5e;;\">HTTP</h2>\n",
    "\n",
    "<hr style=\"border-top: 1px solid #005b5e;\" />\n",
    "\n",
    "- The <a href=\"https://developer.mozilla.org/en-US/docs/Web/HTTP\" style=\"color: #ff791e\">HyperText Transfer Protocol (HTTP)</a> follows a client-server model.\n",
    "\n",
    "- Clients send requests to servers and receive responses in return.\n",
    "\n",
    "- Request-response pairs are atomic: a new request needs to be sent for any follow up.\n",
    "\n",
    "- HTTP is designed to be stateless (see <a href=\"https://developer.mozilla.org/en-US/docs/Glossary/REST\" style=\"color: #ff791e\">REST</a>): the server should not retain any state between requests.\n",
    "\n",
    "- A distinction is made between state and sessions in HTTP, though it is somewhat confusing."
   ]
  },
  {
   "cell_type": "markdown",
   "metadata": {},
   "source": [
    "<span style=\"color: #001a79; font-weight: 800;\">Question:</span> what is a server?\n",
    "\n",
    "<br>"
   ]
  },
  {
   "cell_type": "markdown",
   "metadata": {},
   "source": [
    "<h4 style=\"color: rgb(0, 91, 94);\">Example Request</h4>\n",
    "\n",
    "\n",
    "<a href=\"https://developer.mozilla.org/en-US/docs/Web/HTTP/Session\" style=\"color: #ff791e\">https://developer.mozilla.org/en-US/docs/Web/HTTP/Session</a>\n",
    "\n",
    "<hr style=\"border-top: 1px solid #7bb9cb;\" />\n",
    "\n",
    "```http\n",
    "POST /contact_form.php HTTP/1.1\n",
    "Host: developer.mozilla.org\n",
    "Content-Length: 64\n",
    "Content-Type: application/x-www-form-urlencoded\n",
    "\n",
    "name=Joe%20User&request=Send%20me%20one%20of%20your%20catalogue\n",
    "```\n",
    "<hr style=\"border-top: 1px solid #7bb9cb;\" />\n"
   ]
  },
  {
   "cell_type": "markdown",
   "metadata": {},
   "source": [
    "<h4 style=\"color: rgb(0, 91, 94);\">Example Response</h4>\n",
    "\n",
    "\n",
    "<a href=\"https://developer.mozilla.org/en-US/docs/Web/HTTP/Session\" style=\"color: #ff791e\">https://developer.mozilla.org/en-US/docs/Web/HTTP/Session</a>\n",
    "\n",
    "<hr style=\"border-top: 1px solid #7bb9cb;\" />\n",
    "\n",
    "```http\n",
    "HTTP/1.1 200 OK\n",
    "Content-Type: text/html; charset=utf-8\n",
    "Content-Length: 55743\n",
    "Connection: keep-alive\n",
    "Cache-Control: s-maxage=300, public, max-age=0\n",
    "Content-Language: en-US\n",
    "Date: Thu, 06 Dec 2018 17:37:18 GMT\n",
    "ETag: \"2e77ad1dc6ab0b53a2996dfd4653c1c3\"\n",
    "Server: meinheld/0.6.1\n",
    "Strict-Transport-Security: max-age=63072000\n",
    "X-Content-Type-Options: nosniff\n",
    "X-Frame-Options: DENY\n",
    "X-XSS-Protection: 1; mode=block\n",
    "Vary: Accept-Encoding,Cookie\n",
    "Age: 7\n",
    "\n",
    "<!DOCTYPE html>\n",
    "<html lang=\"en\">\n",
    "<head>\n",
    "  <meta charset=\"utf-8\">\n",
    "  <title>A simple webpage</title>\n",
    "</head>\n",
    "<body>\n",
    "  <h1>Simple HTML webpage</h1>\n",
    "  <p>Hello, world!</p>\n",
    "</body>\n",
    "</html>\n",
    "```\n",
    "\n",
    "<hr style=\"border-top: 1px solid #7bb9cb;\" />\n"
   ]
  },
  {
   "cell_type": "markdown",
   "metadata": {},
   "source": [
    "<h2 style=\"color: rgb(0, 91, 94);\">Static vs Dynamic</h2>\n",
    "\n",
    "<hr style=\"border-top: 1px solid rgb(0, 91, 94);\" />\n",
    "\n",
    "\n",
    "<img src=\"https://github.com/ianmcloughlin/images/raw/master/dynamic.png\" style=\"border: 20px solid rgba(0,0,0,0);\" width=\"600px\">\n",
    "\n",
    "\n",
    "- Static generally means the responses are fixed files - not generated from database content.\n",
    "\n",
    "- The same request typically generates the same response.\n",
    "\n",
    "- The website might still be interactive using (client-side) JavaScript.\n",
    "\n",
    "- Dynamic means something happens between the server receiving the request and the response being sent - usually interaction with a database.\n",
    "\n",
    "- Implies the web server has some mechanism for running some form of code.\n",
    "\n",
    "- The same request at different times might generate a different response.\n",
    "\n",
    "- GitHub Pages is generally only for static content."
   ]
  },
  {
   "cell_type": "markdown",
   "metadata": {},
   "source": [
    "<h2 style=\"color: rgb(0, 91, 94);\">Setup</h2>\n",
    "\n",
    "<hr style=\"border-top: 1px solid rgb(0, 91, 94);\" />\n",
    "\n",
    "<img src=\"https://github.com/ianmcloughlin/images/raw/master/github-pages.png\" style=\"border: 1px solid #ff791e\" width=\"600px\">\n",
    "\n",
    "\n",
    "- To use GitHub Pages you create a repository and enable Pages in the repository settings.\n",
    "\n",
    "- You can specify a repository branch to be your website.\n",
    "\n",
    "- Or you can use GitHub Actions, more below.\n",
    "\n",
    "- Most commonly, a static site generator like <a href=\"https://jekyllrb.com/\" style=\"color: #ff791e\">Jekyll</a> or <a href=\"https://gohugo.io/\" style=\"color: #ff791e\">Hugo</a> is used.\n",
    "\n",
    "- It is a bit unusual to use a branch for something totally different."
   ]
  },
  {
   "cell_type": "markdown",
   "metadata": {},
   "source": [
    "<h2 style=\"color: rgb(0, 91, 94);\">Hugo</h2>\n",
    "\n",
    "<hr style=\"border-top: 1px solid rgb(0, 91, 94);\" />\n",
    "\n",
    "<img src=\"https://d33wubrfki0l68.cloudfront.net/c38c7334cc3f23585738e40334284fddcaf03d5e/2e17c/images/hugo-logo-wide.svg\" width=\"600px\">\n",
    "\n",
    "\n",
    "- Static site generator.\n",
    "\n",
    "- Write in MarkDown, publish in HTML.\n",
    "\n",
    "- Requires a compilation step."
   ]
  },
  {
   "cell_type": "markdown",
   "metadata": {},
   "source": [
    "<h2 style=\"color: rgb(0, 91, 94);\">GitHub Actions</h2>\n",
    "\n",
    "<hr style=\"border-top: 1px solid rgb(0, 91, 94);\" />\n",
    "\n",
    "- GitHub Actions are scripts that run based on triggers related to a GitHub repository.\n",
    "\n",
    "- Typically they are triggered when a commit is pushed to GitHub.\n",
    "\n",
    "- The script might run a set of tests to ensure the code works.\n",
    "\n",
    "- Or the script might build a website from the codebase.\n",
    "\n",
    "- Technically Actions are config files, as opposed to scripts."
   ]
  },
  {
   "cell_type": "markdown",
   "metadata": {},
   "source": [
    "https://gohugo.io/hosting-and-deployment/hosting-on-github/#build-hugo-with-github-action"
   ]
  },
  {
   "cell_type": "markdown",
   "metadata": {},
   "source": [
    "<hr style=\"border-top: 1px solid #c8bebf;\" />\n",
    "\n",
    "```yml\n",
    "name: github pages\n",
    "\n",
    "on:\n",
    "  push:\n",
    "    branches:\n",
    "      - main  # Set a branch to deploy\n",
    "  pull_request:\n",
    "\n",
    "jobs:\n",
    "  deploy:\n",
    "    runs-on: ubuntu-20.04\n",
    "    steps:\n",
    "      - uses: actions/checkout@v2\n",
    "        with:\n",
    "          submodules: true  # Fetch Hugo themes (true OR recursive)\n",
    "          fetch-depth: 0    # Fetch all history for .GitInfo and .Lastmod\n",
    "\n",
    "      - name: Setup Hugo\n",
    "        uses: peaceiris/actions-hugo@v2\n",
    "        with:\n",
    "          hugo-version: 'latest'\n",
    "          # extended: true\n",
    "\n",
    "      - name: Build\n",
    "        run: hugo --minify\n",
    "\n",
    "      - name: Deploy\n",
    "        uses: peaceiris/actions-gh-pages@v3\n",
    "        if: github.ref == 'refs/heads/main'\n",
    "        with:\n",
    "          github_token: ${{ secrets.GITHUB_TOKEN }}\n",
    "          publish_dir: ./public\n",
    "\n",
    "```\n",
    "\n",
    "<hr style=\"border-top: 1px solid #c8bebf;\" />"
   ]
  },
  {
   "cell_type": "markdown",
   "metadata": {},
   "source": [
    "<hr style=\"border-top: 1px solid rgb(0, 91, 94);\" />\n",
    "\n",
    "<h2 style=\"color: rgb(0, 91, 94);\">End</h2>"
   ]
  }
 ],
 "metadata": {
  "kernelspec": {
   "display_name": "Python 3 (ipykernel)",
   "language": "python",
   "name": "python3"
  },
  "language_info": {
   "codemirror_mode": {
    "name": "ipython",
    "version": 3
   },
   "file_extension": ".py",
   "mimetype": "text/x-python",
   "name": "python",
   "nbconvert_exporter": "python",
   "pygments_lexer": "ipython3",
   "version": "3.9.13"
  }
 },
 "nbformat": 4,
 "nbformat_minor": 4
}
