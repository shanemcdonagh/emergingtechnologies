{
  "cells": [
    {
      "cell_type": "markdown",
      "metadata": {
        "id": "view-in-github",
        "colab_type": "text"
      },
      "source": [
        "<a href=\"https://colab.research.google.com/github/ianmcloughlin/2223-S1-emerging-technologies/blob/main/notebooks/03-computation.ipynb\" target=\"_parent\"><img src=\"https://colab.research.google.com/assets/colab-badge.svg\" alt=\"Open In Colab\"/></a>"
      ]
    },
    {
      "cell_type": "markdown",
      "metadata": {
        "id": "KSy_FFX81FSR"
      },
      "source": [
        "<h1 style=\"color: rgb(0, 91, 94);\">Computation</h1>\n",
        "\n",
        "<hr style=\"border-top: 1px solid rgb(0, 91, 94);\" />\n",
        "\n",
        "This notebook a quick overview of some computational problems, setting the stage for Quantum Computation later.\n"
      ]
    },
    {
      "cell_type": "markdown",
      "metadata": {
        "id": "Mq11r49x1FSU"
      },
      "source": [
        "<h2 style=\"color: rgb(0, 91, 94);\">Papers and Articles</h2>\n",
        "\n",
        "<hr style=\"border-top: 1px solid rgb(0, 91, 94);\" />\n",
        "\n",
        "Many computational problems that we often take for granted are not fully resolved.\n",
        "\n",
        "For instance, we are not sure if our matrix multiplication algorithms are as fast as is possible.\n",
        "\n",
        "See the following articles and papers for some insight.\n",
        "\n",
        "<a href=\"https://www.quantamagazine.org/mathematicians-inch-closer-to-matrix-multiplication-goal-20210323/\" style=\"color: #ff791e\">Matrix Multiplication Inches Closer to Mythic Goal; </a> *Kevin Hartnett;* Quanta magazine\n",
        "\n",
        "\n",
        "<a href=\"https://www.nature.com/articles/s41586-022-05172-4\" style=\"color: #ff791e\">Discovering faster matrix multiplication algorithms with reinforcement learning;</a> *Alhussein Fawzi, Matej Balog, Aja Huang, Thomas Hubert, Bernardino Romera-Paredes, Mohammadamin Barekatain, Alexander Novikov, Francisco J. R. Ruiz, Julian Schrittwieser, Grzegorz Swirszcz, David Silver, Demis Hassabis & Pushmeet Kohli;* Nature\n",
        "\n",
        "<a href=\"https://arxiv.org/abs/2210.04045\" style=\"color: #ff791e\">The FBHHRBNRSSSHK-Algorithm for Multiplication in $\\mathbb{Z}_2^{5 \\times 5}$ is still not the end of the story;</a> *Manuel Kauers, Jakob Moosbauer;* arXiv \n",
        "\n",
        "\n",
        "<a href=\"https://arxiv.org/abs/2010.05846\" style=\"color: #ff791e\">A Refined Laser Method and Faster Matrix Multiplication;</a> *Josh Alman, Virginia Vassilevska Williams;* arXiv\n",
        "\n"
      ]
    },
    {
      "cell_type": "markdown",
      "metadata": {
        "id": "Ypmxc9VD1FSU"
      },
      "source": [
        "<h2 style=\"color: rgb(0, 91, 94);\">Growth Rates</h2>\n",
        "\n",
        "<hr style=\"border-top: 1px solid rgb(0, 91, 94);\" />\n",
        "\n",
        "In discussing computation, we must have a clear picture of what we mean by complexity.\n",
        "\n",
        "One of the most important distinctions is between polynomial growth and exponential growth."
      ]
    },
    {
      "cell_type": "code",
      "execution_count": null,
      "metadata": {
        "id": "NI4--sNN1FSV",
        "outputId": "41d63e30-8440-41ec-8bc6-672f9ff5a7f7"
      },
      "outputs": [
        {
          "data": {
            "image/png": "[encoded data removed]",
            "text/plain": [
              "<Figure size 1200x600 with 1 Axes>"
            ]
          },
          "metadata": {},
          "output_type": "display_data"
        }
      ],
      "source": [
        "# Numbers.\n",
        "import numpy as np\n",
        "\n",
        "# Plotting.\n",
        "import matplotlib.pyplot as plt\n",
        "\n",
        "# Create a figure.\n",
        "fig, ax = plt.subplots(figsize=(12, 6))\n",
        "\n",
        "# x values.\n",
        "x = np.linspace(0.0, 10.0, 1000)\n",
        "\n",
        "# Plot polynomial.\n",
        "ax.plot(x, x**2, label=\"$x^2$\")\n",
        "\n",
        "# Plot exponential.\n",
        "ax.plot(x, 2**x, label=\"$2^x$\")\n",
        "\n",
        "# Legend.\n",
        "ax.legend()\n",
        "\n",
        "# Show.\n",
        "plt.show();"
      ]
    },
    {
      "cell_type": "markdown",
      "metadata": {
        "id": "kGfjSAp41FSX"
      },
      "source": [
        "<h2 style=\"color: rgb(0, 91, 94);\">Big O Notation</h2>\n",
        "\n",
        "<hr style=\"border-top: 1px solid rgb(0, 91, 94);\" />\n",
        "\n",
        "Let $f$ and $g$ be functions. Then $f$ is $O(g)$ if there are positive integers $c$ and $n_0$ such that for every $n \\geq n_0$: $f(n) \\leq c g(n)$"
      ]
    },
    {
      "cell_type": "markdown",
      "metadata": {
        "id": "zeoJeaY_1FSX"
      },
      "source": [
        "<h3 style=\"color: #001a79;\">Exercise 1</h3>\n",
        "\n",
        "<hr style=\"border-top: 1px solid #001a79;\" />\n",
        "\n",
        "<i style=\"color: #001a79;\">Remember to do these exercises in your own notebook in your assessment repository.</i>\n",
        "\n",
        "Describe and plot five examples of pairs of functions $f$ and $g$ such that $f$ is $O(g)$.\n",
        "\n",
        "<hr style=\"border-top: 1px solid #001a79;\" />"
      ]
    },
    {
      "cell_type": "markdown",
      "metadata": {
        "id": "yns2cSoI1FSX"
      },
      "source": [
        "<h2 style=\"color: rgb(0, 91, 94);\">Turing Machine</h2>\n",
        "\n",
        "<hr style=\"border-top: 1px solid rgb(0, 91, 94);\" />\n",
        "\n",
        "Classical computers are built on the foundations of Turing's seminal work:\n",
        "\n",
        "<a href=\"https://www.cs.virginia.edu/~robins/Turing_Paper_1936.pdf\" style=\"color: #ff791e\">On Computable Numbers, with an Application to the Entscheidungsproblem;</a> *A. M. Turing;* Nov 1937; Proceedings of the London Mathematical Society. \n",
        "\n",
        "Below we simulate a Turing machine using Python."
      ]
    },
    {
      "cell_type": "code",
      "execution_count": null,
      "metadata": {
        "id": "lib8w1Ss1FSX",
        "outputId": "5b06d2fe-3d46-4b77-dfc9-e82415ad2255"
      },
      "outputs": [
        {
          "name": "stdout",
          "output_type": "stream",
          "text": [
            "X0101111\n",
            "0X101111\n",
            "01Y01111\n",
            "010Y1111\n",
            "0101X111\n",
            "01011Y11\n",
            "010111X1\n",
            "0101111Y_\n",
            "0101111_F_\n"
          ]
        }
      ],
      "source": [
        "# State table.\n",
        "table = {\n",
        "    ('X', '_'): ['_', 'R', 'T'],\n",
        "    ('X', '0'): ['0', 'R', 'X'],\n",
        "    ('X', '1'): ['1', 'R', 'Y'],\n",
        "    ('Y', '_'): ['_', 'R', 'F'],\n",
        "    ('Y', '0'): ['0', 'R', 'Y'],\n",
        "    ('Y', '1'): ['1', 'R', 'X'],\n",
        "}\n",
        "\n",
        "# Tape input.\n",
        "tape = list('0101111')\n",
        "# Position on tape.\n",
        "pos = 0\n",
        "# Initial state is first in table.\n",
        "state = 'X'\n",
        "\n",
        "# Keep going while we are not in a halting state.\n",
        "while state not in ['T', 'F']:\n",
        "    # Print the current status.\n",
        "    print(''.join(tape[:pos]) + state + ''.join(tape[pos:]))\n",
        "    # Get the row of the table.\n",
        "    row = table[(state, tape[pos])]\n",
        "    # Overwrite the symbol.\n",
        "    tape[pos] = row[0]\n",
        "    # Move left or right.\n",
        "    if row[1] == 'R':\n",
        "        # Put blanks on tape as necessary.\n",
        "        if pos == len(tape) - 1:\n",
        "            tape = tape + ['_']\n",
        "        # Increase position.\n",
        "        pos = pos + 1\n",
        "    else:\n",
        "        # Put blanks on tape as necessary.\n",
        "        if pos == 0:\n",
        "            tape = ['_'] + tape\n",
        "            # The position on the tape has to move with it.\n",
        "            pos = pos + 1\n",
        "        # Decrease position.\n",
        "        pos = pos - 1\n",
        "    # Update the state.\n",
        "    state = row[2]\n",
        "\n",
        "# Print the current status.\n",
        "print(''.join(tape[:pos]) + state + ''.join(tape[pos:]))"
      ]
    },
    {
      "cell_type": "markdown",
      "metadata": {
        "id": "fn93r6601FSY"
      },
      "source": [
        "<h3 style=\"color: #001a79;\">Exercise 2</h3>\n",
        "\n",
        "<hr style=\"border-top: 1px solid #001a79;\" />\n",
        "\n",
        "<i style=\"color: #001a79;\">Remember to do these exercises in your own notebook in your assessment repository.</i>\n",
        "\n",
        "Change the above code to only accept inputs that do not contain any 1's.\n",
        "\n",
        "<hr style=\"border-top: 1px solid #001a79;\" />"
      ]
    },
    {
      "cell_type": "markdown",
      "metadata": {
        "id": "u5F59VMR1FSY"
      },
      "source": [
        "<h2 style=\"color: rgb(0, 91, 94);\">Experiments Challenging Turing's Thesis</h2>\n",
        "\n",
        "<hr style=\"border-top: 1px solid rgb(0, 91, 94);\" />\n",
        "\n",
        "<h3><a style=\"color: #ff791e\" href=\"https://en.wikipedia.org/wiki/Double-slit_experiment\">Double Slit Experiment</a></h3>\n",
        "\n",
        "<img style=\"border: 1px solid #ff791e\" width=\"90%\" src=\"https://upload.wikimedia.org/wikipedia/commons/thumb/c/cd/Double-slit.svg/1024px-Double-slit.svg.png\">\n",
        "\n",
        "\n",
        "<h3><a style=\"color: #ff791e\" href=\"https://en.wikipedia.org/wiki/Stern%E2%80%93Gerlach_experiment\">Stern Gerlach</a></h3>\n",
        "\n",
        "<img src=\"https://upload.wikimedia.org/wikipedia/commons/thumb/e/ee/Stern-Gerlach_experiment_svg.svg/1024px-Stern-Gerlach_experiment_svg.svg.png\" style=\"border: 1px solid #ff791e\" width=\"90%\">\n",
        "\n",
        "<img src=\"https://upload.wikimedia.org/wikipedia/commons/thumb/c/cb/Stern-Gerlach_Analyzer_Sequential_Series_E3.png/1024px-Stern-Gerlach_Analyzer_Sequential_Series_E3.png\" style=\"border: 1px solid #ff791e\" width=\"90%\">\n"
      ]
    },
    {
      "cell_type": "markdown",
      "metadata": {
        "id": "gKM1sUJ81FSZ"
      },
      "source": [
        "<h2 style=\"color: rgb(0, 91, 94);\">Classical Circuits</h2>\n",
        "\n",
        "<hr style=\"border-top: 1px solid rgb(0, 91, 94);\" />\n",
        "\n",
        "<a style=\"color: #ff791e\" href=\"https://mybinder.org/v2/gh/atumath/schemdraw-binder/main?urlpath=git-pull%3Frepo%3Dhttps%253A%252F%252Fgithub.com%252Fianmcloughlin%252Fcircuits-notebooks%26urlpath%3Dtree%252Fcircuits-notebooks%252F%26branch%3Dmain\">A Binder Repository on Classical Circuits</a>\n",
        "\n",
        "<a style=\"color: #ff791e\" href=\"https://github.com/ianmcloughlin/circuits-notebooks\">The GitHub Repository for the above notebooks</a>\n",
        "\n",
        "<a style=\"color: #ff791e\" href=\"https://github.com/atumath/schemdraw-binder\">The GitHub Repository for the above binder instance</a>\n",
        "\n",
        "<a style=\"color: #ff791e\" href=\"https://nandgame.com/\">A Game Using Nand Gates</a>"
      ]
    },
    {
      "cell_type": "markdown",
      "metadata": {
        "id": "2YPW1QlI1FSZ"
      },
      "source": [
        "<hr style=\"border-top: 1px solid rgb(0, 91, 94);\" />\n",
        "\n",
        "<h2 style=\"color: rgb(0, 91, 94);\">End</h2>"
      ]
    }
  ],
  "metadata": {
    "colab": {
      "provenance": [],
      "include_colab_link": true
    },
    "kernelspec": {
      "display_name": "Python 3 (ipykernel)",
      "language": "python",
      "name": "python3"
    },
    "language_info": {
      "codemirror_mode": {
        "name": "ipython",
        "version": 3
      },
      "file_extension": ".py",
      "mimetype": "text/x-python",
      "name": "python",
      "nbconvert_exporter": "python",
      "pygments_lexer": "ipython3",
      "version": "3.9.13"
    }
  },
  "nbformat": 4,
  "nbformat_minor": 0
}