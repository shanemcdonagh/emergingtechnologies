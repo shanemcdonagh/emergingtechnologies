{
 "cells": [
  {
   "cell_type": "markdown",
   "id": "40d26da2",
   "metadata": {},
   "source": [
    "<h1 style=\"color: rgb(0, 91, 94);\">Fourier Transform</h1>\n",
    "\n",
    "<hr style=\"border-top: 1px solid rgb(0, 91, 94);\" />"
   ]
  },
  {
   "cell_type": "markdown",
   "id": "7ab8c72f",
   "metadata": {},
   "source": [
    "<h2 style=\"color: rgb(0, 91, 94);\">Introduction</h2>\n",
    "\n",
    "<hr style=\"border-top: 1px solid rgb(0, 91, 94);\" />\n",
    "\n",
    "Within this repository, we will be exploring the concept of <b>Fourier Transform</b>, its definition, application and general usefulness. It is important to discuss these in detail to provide a solid understanding of the principles of Fourier Transform.\n",
    "\n",
    "There are many applications of a Fourier Transform, which we will discuss as well."
   ]
  },
  {
   "cell_type": "markdown",
   "id": "3f96f104",
   "metadata": {},
   "source": [
    "<h2 style=\"color: rgb(0, 91, 94);\">Fourier Transform: Definition</h2>\n",
    "\n",
    "<hr style=\"border-top: 1px solid rgb(0, 91, 94);\" />\n",
    "\n",
    "To give a understanding to what Fourier Transform is, we must first define what exactly a Fourier Transform is. Originally discussed by the French mathmatician <i>Jean Baptiste Fourier</i>, he described the Fourier Transform to be a mathematical procedure which decomposes and transforms functions into frequency components (from a time domain to a frequency domain).<sup><a href=\"#references\">[1]</a></sup>\n",
    "\n",
    "Fourier Transform is one of two Fourier expansions which fall under the category of Fourier Analysis. We will also talk about the Inverse Fourier Transform, breaking down it's application in both definition and in code.\n",
    "\n",
    "The Fourier analysis can be described as the study of general functions which may be represented or decomposed into \"trigonometric or exponential functions with definite frequencies\".<sup><a href=\"#references\">[2]</a></sup>\n",
    "\n",
    "The usage of Fourier analysis can be used in a myriad of ways, whether developing computer models or processing and analysing data. \n",
    "\n",
    "Fourier Transforms are used for <i>non-periodic</i> functions that can be written into trigometric or exponential functions with a \"continuum of possible frequencies\". Since these functions can be written in sinusoidal functions, this helps to focus on these functions when solving differing equations, which is easier than using general functions.<sup><a href=\"#references\">[1]</a></sup> Essentially this means we can break down waveforms in a different representation of sines and cosines"
   ]
  },
  {
   "cell_type": "markdown",
   "id": "575eff59",
   "metadata": {},
   "source": [
    "<h2 style=\"color: rgb(0, 91, 94);\">Fourier Transform: Formula</h2>\n",
    "\n",
    "<hr style=\"border-top: 1px solid rgb(0, 91, 94);\" />\n",
    "\n",
    "$$\n",
    "y[k] = \\sum_{n=0}^{N-1} e^{-2 \\pi j \\frac{kn}{N}} x[n]\n",
    "$$\n",
    "\n",
    "The following formula is is called <b><i>Fast Fourier Transform (FFT)</i></b>, deriving from discrete fourier transforms. Discrete Fourier Transforms are defined by when a given function and its Fourier transform are replaced with \"discretized counterparts\" (values which are individual and countable).<sup><a href=\"#references\">[3]</a></sup> The below image gives a visual example of this. The purpose of this is to make computations in a faster manner.\n",
    "\n",
    "<img src=\"https://learn.g2.com/hs-fs/hubfs/G2CR_B071_Discrete_vs_Continuous_Data_V1.png?width=866\"><a href=\"https://learn.g2.com/hs-fs/hubfs/G2CR_B071_Discrete_vs_Continuous_Data_V1.png?width=866\"><center><b>Source</b></center></a></img>\n",
    "\n",
    "\n",
    "To attempt to use this formula by hand can be seen from a following example done within the lectures of this module on the topic of Fourier Transform. We can also see the same inputs used within a function from the <i>SciPy Python library</i>, which is mainly used for scientific computing.<sup><a href=\"#references\">[4]</a></sup>"
   ]
  },
  {
   "cell_type": "code",
   "execution_count": 14,
   "id": "0897032f",
   "metadata": {
    "scrolled": true
   },
   "outputs": [
    {
     "data": {
      "text/plain": [
       "array([ 7.5       +0.j        ,  4.12664445-0.78579896j,\n",
       "       -5.37664445+8.714644j  , -5.37664445-8.714644j  ,\n",
       "        4.12664445+0.78579896j])"
      ]
     },
     "execution_count": 14,
     "metadata": {},
     "output_type": "execute_result"
    }
   ],
   "source": [
    "# FAST FOURIER TRANSFORM: BY HAND\n",
    "\n",
    "# Numerical arrays\n",
    "import numpy as np\n",
    "\n",
    "# Sample input array\n",
    "x = np.array([1.0, 2.0, 3.0, -4.0, 5.5])\n",
    "\n",
    "# Output array\n",
    "y = []\n",
    "\n",
    "N = len(x)\n",
    "\n",
    "# For each index of the length of the input array\n",
    "for k in range(N):\n",
    "    y_k = 0.0\n",
    "    for n in range(N):\n",
    "        # Increment the value of y[k]\n",
    "        y_k = y_k + (np.e**(-2 * np.pi * 1j * k * n / N) * x[n])\n",
    "    y.append(y_k)\n",
    "\n",
    "# Output the new output array\n",
    "np.array(y)"
   ]
  },
  {
   "cell_type": "code",
   "execution_count": 2,
   "id": "1dfb9949",
   "metadata": {},
   "outputs": [
    {
     "data": {
      "text/plain": [
       "array([ 7.5       -0.j        ,  4.12664445-0.78579896j,\n",
       "       -5.37664445+8.714644j  , -5.37664445-8.714644j  ,\n",
       "        4.12664445+0.78579896j])"
      ]
     },
     "execution_count": 2,
     "metadata": {},
     "output_type": "execute_result"
    }
   ],
   "source": [
    "# FAST FOURIER TRANSFROM: SCIPY LIBRARY\n",
    "\n",
    "\n",
    "# Import the necessary library\n",
    "import scipy.fft as fft\n",
    "\n",
    "y = fft.fft(x)\n",
    "y"
   ]
  },
  {
   "cell_type": "markdown",
   "id": "6dc97044",
   "metadata": {},
   "source": [
    "From the above applications of the fast fourier transform, we can see these long strings of values which end with a $j$. These are known as <b>complex numbers</b>."
   ]
  },
  {
   "cell_type": "markdown",
   "id": "e3389e6b",
   "metadata": {},
   "source": [
    "<h3 style=\"color: rgb(0, 91, 94);\">Complex Numbers</h3>\n",
    "\n",
    "<hr style=\"border-top: 1px solid rgb(0, 91, 94);\" />\n",
    "Complex numbers are used by mathematicians, engineers, and physicists but what exactly is a complex number, and what is its role in Fourier Transforms?\n",
    "\n",
    "A complex number is comprised of a <b>real number</b> and an <i>imaginary one</i>. <sup><a href=\"#references\">[5]</a></sup>\n",
    "Since waves consist of both magnitude and phase, complex numbers allow for us to visualize both the magnitude and phase of a wave (meaning complex numbers can be seen as two dimensional values). "
   ]
  },
  {
   "cell_type": "code",
   "execution_count": 18,
   "id": "a6f099e5",
   "metadata": {},
   "outputs": [
    {
     "data": {
      "image/png": "[encoded data removed]",
      "text/plain": [
       "<Figure size 576x396 with 1 Axes>"
      ]
     },
     "metadata": {},
     "output_type": "display_data"
    }
   ],
   "source": [
    "# https://github.com/peterbbryan/Understanding-Fourier/blob/master/fourier_3/medium_graphics/make_graphics_three.py\n",
    "# Allows us to visualize of both the phase and maginitude represented by a complex number\n",
    "\n",
    "import matplotlib.pyplot as plt\n",
    "\n",
    "\n",
    "plt.style.use(\"seaborn\")  # switch to seaborn style\n",
    "\n",
    "\n",
    "def _figure_1(output_path: str = \"./figure_1.png\") -> None:\n",
    "    \"\"\"\n",
    "    Plot phase and magnitude.\n",
    "    Args:\n",
    "        output_path: Path to write figure to.\n",
    "    \"\"\"\n",
    "\n",
    "    plt.figure()\n",
    "\n",
    "    # plot a complex number sample\n",
    "    plt.scatter(1, 1, s=20)\n",
    "    plt.plot([(0, 0), (1, 1)], linewidth=0.5, color=\"blue\")\n",
    "    plt.text(1.05, 1.05, \"1+1j\")\n",
    "\n",
    "    # plot angle\n",
    "    theta = np.linspace(0, np.pi / 4, 10)\n",
    "    x1 = 0.5 * np.cos(theta)\n",
    "    x2 = 0.5 * np.sin(theta)\n",
    "    plt.plot(x1, x2, linewidth=0.3, color=\"gray\")\n",
    "    plt.text(0.5, 0.2, f\"arctan2(imag, real) = \\n{np.arctan2(1, 1):.2f}\")\n",
    "\n",
    "    # plot distance\n",
    "    plt.text(\n",
    "        0.06, 0.16, f\"sqrt(imag^2 + real^2) = {np.sqrt(1**2 + 1**2):.2f}\", rotation=45\n",
    "    )\n",
    "\n",
    "    # rectify the axes\n",
    "    plt.axhline(y=0, color=\"gray\", linestyle=\"-\")\n",
    "    plt.axvline(x=0, color=\"gray\", linestyle=\"-\")\n",
    "    plt.axis(\"square\")\n",
    "    plt.xlabel(\"Real component\")\n",
    "    plt.xlim(-1.4, 1.4)\n",
    "    plt.ylabel(\"Imaginary component\")\n",
    "    plt.ylim(-1.4, 1.4)\n",
    "\n",
    "    plt.tight_layout()\n",
    "    plt.savefig(output_path)\n",
    "\n",
    "_figure_1()"
   ]
  },
  {
   "cell_type": "markdown",
   "id": "28f69e83",
   "metadata": {},
   "source": [
    "Essentially, complex numbers allow for us to represent both magnitude and frequency, which can be extracted from them for Fourier Transform."
   ]
  },
  {
   "cell_type": "markdown",
   "id": "70048f70",
   "metadata": {},
   "source": [
    "<h2 style=\"color: rgb(0, 91, 94);\">Fourier Transform: Breaking down a signal</h2>\n",
    "\n",
    "<hr style=\"border-top: 1px solid rgb(0, 91, 94);\" />\n",
    "\n",
    "Let us create a signal by using sine and cosine functions by using examples representing in class."
   ]
  },
  {
   "cell_type": "code",
   "execution_count": 3,
   "id": "939bd9f6",
   "metadata": {},
   "outputs": [
    {
     "data": {
      "image/png": "[encoded data removed]",
      "text/plain": [
       "<Figure size 432x288 with 1 Axes>"
      ]
     },
     "metadata": {
      "needs_background": "light"
     },
     "output_type": "display_data"
    }
   ],
   "source": [
    "from scipy.fft import fft, fftfreq\n",
    "\n",
    "import numpy as np\n",
    "\n",
    "# Number of sample points\n",
    "\n",
    "N = 600\n",
    "\n",
    "# sample spacing\n",
    "\n",
    "T = 1.0 / 800.0\n",
    "\n",
    "x = np.linspace(0.0, N*T, N, endpoint=False)\n",
    "\n",
    "y = np.sin(50.0 * 2.0*np.pi*x) + 0.5*np.sin(80.0 * 2.0*np.pi*x)\n",
    "\n",
    "yf = fft(y)\n",
    "\n",
    "xf = fftfreq(N, T)[:N//2]\n",
    "\n",
    "import matplotlib.pyplot as plt\n",
    "\n",
    "plt.plot(xf, 2.0/N * np.abs(yf[0:N//2]))\n",
    "\n",
    "plt.grid()\n",
    "\n",
    "plt.show()"
   ]
  },
  {
   "cell_type": "code",
   "execution_count": 4,
   "id": "22ef1870",
   "metadata": {},
   "outputs": [],
   "source": [
    "def add(x,y):\n",
    "    return (x[0] + y[0],x[1]+y[1])"
   ]
  },
  {
   "cell_type": "code",
   "execution_count": 5,
   "id": "6e4bea04",
   "metadata": {},
   "outputs": [
    {
     "data": {
      "text/plain": [
       "(0.0, 0.6778260585113263)"
      ]
     },
     "execution_count": 5,
     "metadata": {},
     "output_type": "execute_result"
    }
   ],
   "source": [
    "add(x,y)"
   ]
  },
  {
   "cell_type": "code",
   "execution_count": 6,
   "id": "52c427da",
   "metadata": {},
   "outputs": [],
   "source": [
    "def mul(x,y):\n",
    "    a, b = x\n",
    "    c, d = y\n",
    "    return (a * c - b * d,a * d + b * c)"
   ]
  },
  {
   "cell_type": "code",
   "execution_count": 7,
   "id": "e40b8928",
   "metadata": {},
   "outputs": [
    {
     "data": {
      "text/plain": [
       "(1+12j)"
      ]
     },
     "execution_count": 7,
     "metadata": {},
     "output_type": "execute_result"
    }
   ],
   "source": [
    "(3 + 7j) + (-2 + 5j)"
   ]
  },
  {
   "cell_type": "markdown",
   "id": "32ad7725",
   "metadata": {},
   "source": [
    "Explore complex numbers (why multiplication is as it is etc.)"
   ]
  },
  {
   "cell_type": "code",
   "execution_count": 8,
   "id": "6d134879",
   "metadata": {},
   "outputs": [],
   "source": [
    "class Complex():\n",
    "    def __init__(self,a,b):\n",
    "        self.a = a\n",
    "        self.b = b\n",
    "        \n",
    "    def __add__(self, other):\n",
    "        return Complex(self.a + other.a, self.b + other.b)\n",
    "    \n",
    "    def __mul__(self, other):\n",
    "        a, b = self.a, self.b\n",
    "        c, d = other.a, other.b\n",
    "        return Complex(a*c - b*d, a*d + b*c)\n",
    "    \n",
    "    def __repr__(self):\n",
    "        return f'Complex({self.a},{self.b})'"
   ]
  },
  {
   "cell_type": "code",
   "execution_count": 9,
   "id": "fd9c4fce",
   "metadata": {},
   "outputs": [
    {
     "data": {
      "text/plain": [
       "Complex(3,7)"
      ]
     },
     "execution_count": 9,
     "metadata": {},
     "output_type": "execute_result"
    }
   ],
   "source": [
    "Complex(3,7)"
   ]
  },
  {
   "cell_type": "code",
   "execution_count": 10,
   "id": "3931c2b5",
   "metadata": {},
   "outputs": [
    {
     "data": {
      "text/plain": [
       "Complex(-2,5)"
      ]
     },
     "execution_count": 10,
     "metadata": {},
     "output_type": "execute_result"
    }
   ],
   "source": [
    "Complex(-2,5)"
   ]
  },
  {
   "cell_type": "code",
   "execution_count": 11,
   "id": "a4e94be8",
   "metadata": {},
   "outputs": [],
   "source": [
    "import matplotlib.pyplot as plt\n",
    "import numpy as np"
   ]
  },
  {
   "cell_type": "code",
   "execution_count": 12,
   "id": "f86661c5",
   "metadata": {},
   "outputs": [],
   "source": [
    "x = np.linspace(-6.0,6.0,1000)\n",
    "y = x**2 - 16"
   ]
  },
  {
   "cell_type": "code",
   "execution_count": 13,
   "id": "ae10657c",
   "metadata": {
    "scrolled": true
   },
   "outputs": [
    {
     "data": {
      "text/plain": [
       "<matplotlib.lines.Line2D at 0x235af8acee0>"
      ]
     },
     "execution_count": 13,
     "metadata": {},
     "output_type": "execute_result"
    },
    {
     "data": {
      "image/png": "[encoded data removed]",
      "text/plain": [
       "<Figure size 432x288 with 1 Axes>"
      ]
     },
     "metadata": {
      "needs_background": "light"
     },
     "output_type": "display_data"
    }
   ],
   "source": [
    "fig, ax = plt.subplots()\n",
    "ax.plot(x,y)\n",
    "ax.axhline(0.0,color='grey')"
   ]
  },
  {
   "cell_type": "markdown",
   "id": "86ca3e07",
   "metadata": {},
   "source": [
    "<h2 style=\"color: rgb(0, 91, 94);\">References</h2>\n",
    "\n",
    "<hr style=\"border-top: 1px solid rgb(0, 91, 94);\" />\n",
    "\n",
    "<div id=\"references\">\n",
    "    <p>\n",
    "        [1] Ijirset (Journal): <a href=\"http://www.ijirset.com/upload/2018/november/46_Applications%20of%20Fourier%20transform%20in%20Engineering%20Field%20_1_.pdf\">Applications of Fourier Transform in Engineering Field</a><br><br>\n",
    "        [2] Scholars at Harvard (Notes): <a href=\"https://scholar.harvard.edu/files/david-morin/files/waves_fourier.pdf\">Fourier analysis</a><br><br>  \n",
    "        [3] G2 - Business Software Reviews (Website): <a href=\"https://www.g2.com/articles/discrete-vs-continuous-data\">Discrete vs. Continuous Data</a><br><br>  \n",
    "        [4] SciPy: Documentation: <a href=\"https://docs.scipy.org/doc/scipy/tutorial/fft.html\">Fourier Transforms</a><br><br> \n",
    "        [5] The Fourier Transform (Website): <a href=\"https://docs.scipy.org/doc/scipy/tutorial/fft.html\">Fourier Transforms - Introduction to Complex Math</a><br><br>  \n",
    "        [5] Towards Data Science (Website): <a href=\"https://towardsdatascience.com/the-fourier-transform-3-magnitude-and-phase-encoding-in-complex-data-8184e2ef75f0\">Magnitude and phase encoding in complex data</a><br><br>  \n",
    "</div>\n",
    "\n",
    "<h3 style=\"color: rgb(0, 91, 94);\">Further Study</h3><br>\n",
    "<hr style=\"border-top: 1px solid rgb(0, 91, 94);\" />\n",
    "\n",
    "<a href=\"https://youtu.be/spUNpyF58BY\">But what is the Fourier Transform? A visual introduction</a>\n",
    "\n",
    "\n",
    "<!--<sup><a href=\"#references\">[5]</a></sup>!-->"
   ]
  }
 ],
 "metadata": {
  "kernelspec": {
   "display_name": "Python 3 (ipykernel)",
   "language": "python",
   "name": "python3"
  },
  "language_info": {
   "codemirror_mode": {
    "name": "ipython",
    "version": 3
   },
   "file_extension": ".py",
   "mimetype": "text/x-python",
   "name": "python",
   "nbconvert_exporter": "python",
   "pygments_lexer": "ipython3",
   "version": "3.9.7"
  }
 },
 "nbformat": 4,
 "nbformat_minor": 5
}
