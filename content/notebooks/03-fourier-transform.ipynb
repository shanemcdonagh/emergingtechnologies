{
 "cells": [
  {
   "cell_type": "markdown",
   "id": "40d26da2",
   "metadata": {},
   "source": [
    "<h1 style=\"color: rgb(0, 91, 94);\">Fourier Transform</h1>\n",
    "\n",
    "<hr style=\"border-top: 1px solid rgb(0, 91, 94);\" />"
   ]
  },
  {
   "cell_type": "markdown",
   "id": "7ab8c72f",
   "metadata": {},
   "source": [
    "<h2 style=\"color: rgb(0, 91, 94);\">Introduction</h2>\n",
    "\n",
    "<hr style=\"border-top: 1px solid rgb(0, 91, 94);\" />\n",
    "\n",
    "Within this repository, we will be exploring the concept of <b>Fourier Transform</b>, its definition, application and general usefulness. It is important to discuss these in detail to provide a solid understanding of the principles of Fourier Transform.\n",
    "\n",
    "There are many applications of a Fourier Transform, which we will discuss as well."
   ]
  },
  {
   "cell_type": "markdown",
   "id": "3f96f104",
   "metadata": {},
   "source": [
    "<h2 style=\"color: rgb(0, 91, 94);\">Fourier Transform: Definition</h2>\n",
    "\n",
    "<hr style=\"border-top: 1px solid rgb(0, 91, 94);\" />\n",
    "\n",
    "To give a understanding to what Fourier Transform is, we must first define what exactly a Fourier Transform is. Originally discussed by the French mathmatician <i>Jean Baptiste Fourier</i>, he described the Fourier Transform to be a mathematical procedure which decomposes and transforms functions into frequency components (from a time domain to a frequency domain.<sup><a href=\"#references\">[1]</a></sup>\n",
    "\n",
    "Fourier Transform is one of two Fourier expansions which fall under the category of Fourier Analysis. We will also talk about the Inverse Fourier Transform, breaking down it's application in both definition and in code.\n",
    "\n",
    "The Fourier analysis can be described as the study of general functions which may be represented or decomposed into \"trigonometric or exponential functions with definite frequencies\".<sup><a href=\"#references\">[2]</a></sup>\n",
    "\n",
    "The usage of Fourier analysis can be used in a myriad of ways, whether developing computer models or processing and analysing data. \n",
    "\n",
    "Fourier Transforms are used for <i>non-periodic</i> functions that can be written into trigometric or exponential functions with a \"continuum of possible frequencies\". Since these functions can be written in sinusoidal functions, this helps to focus on these functions when solving differing equations, which is easier than using general functions.<sup><a href=\"#references\">[1]</a></sup> Essentially this means we can break down waveforms in a different representation of sines and cosines"
   ]
  },
  {
   "cell_type": "markdown",
   "id": "f9936f94",
   "metadata": {},
   "source": [
    "<h2 style=\"color: rgb(0, 91, 94);\">Fourier Transform: Application</h2>\n",
    "\n",
    "<hr style=\"border-top: 1px solid rgb(0, 91, 94);\" />\n",
    "\n",
    "$$\n",
    "y[k] = \\sum_{n=0}^{N-1} e^{-2 \\pi j \\frac{kn}{N}} x[n]\n",
    "$$\n",
    "\n",
    "The following formula is is called <b><i>Fast Fourier Transform (FFT)</i></b>, deriving from discrete fourier transforms. Discrete Fourier Transforms are defined by when a given function and its Fourier transform are replaced with \"discretized counterparts\" (values which are individual and countable).<sup><a href=\"#references\">[3]</a></sup> The below image gives a visual example of this. The purpose of this is to make computations in a faster manner.\n",
    "\n",
    "<img src=\"https://learn.g2.com/hs-fs/hubfs/G2CR_B071_Discrete_vs_Continuous_Data_V1.png?width=866\"><a href=\"https://learn.g2.com/hs-fs/hubfs/G2CR_B071_Discrete_vs_Continuous_Data_V1.png?width=866\"><center><b>Source</b></center></a></img>\n",
    "\n",
    "\n",
    "To attempt to use this formula by hand can be seen from a following example done within the lectures of this module on the topic of Fourier Transform."
   ]
  },
  {
   "cell_type": "code",
   "execution_count": 3,
   "id": "ace80f5f",
   "metadata": {},
   "outputs": [
    {
     "data": {
      "text/plain": [
       "array([224.625+0.00000000e+00j,  -0.375+7.16190699e+01j,\n",
       "        -0.375+3.58085532e+01j,  -0.375+2.38712779e+01j,\n",
       "        -0.375+1.79023130e+01j,  -0.375+1.43206722e+01j,\n",
       "        -0.375+1.19326935e+01j,  -0.375+1.02268073e+01j,\n",
       "        -0.375+8.94722895e+00j,  -0.375+7.95185580e+00j,\n",
       "        -0.375+7.15542626e+00j,  -0.375+6.50368296e+00j,\n",
       "        -0.375+5.96045432e+00j,  -0.375+5.50069846e+00j,\n",
       "        -0.375+5.10652834e+00j,  -0.375+4.76482678e+00j,\n",
       "        -0.375+4.46575590e+00j,  -0.375+4.20179261e+00j,\n",
       "        -0.375+3.96708562e+00j,  -0.375+3.75701549e+00j,\n",
       "        -0.375+3.56788667e+00j,  -0.375+3.39670751e+00j,\n",
       "        -0.375+3.24103030e+00j,  -0.375+3.09883302e+00j,\n",
       "        -0.375+2.96843066e+00j,  -0.375+2.84840779e+00j,\n",
       "        -0.375+2.73756676e+00j,  -0.375+2.63488734e+00j,\n",
       "        -0.375+2.53949503e+00j,  -0.375+2.45063597e+00j,\n",
       "        -0.375+2.36765682e+00j,  -0.375+2.28998851e+00j,\n",
       "        -0.375+2.21713313e+00j,  -0.375+2.14865312e+00j,\n",
       "        -0.375+2.08416238e+00j,  -0.375+2.02331894e+00j,\n",
       "        -0.375+1.96581884e+00j,  -0.375+1.91139097e+00j,\n",
       "        -0.375+1.85979276e+00j,  -0.375+1.81080651e+00j,\n",
       "        -0.375+1.76423629e+00j,  -0.375+1.71990530e+00j,\n",
       "        -0.375+1.67765356e+00j,  -0.375+1.63733598e+00j,\n",
       "        -0.375+1.59882066e+00j,  -0.375+1.56198741e+00j,\n",
       "        -0.375+1.52672652e+00j,  -0.375+1.49293758e+00j,\n",
       "        -0.375+1.46052857e+00j,  -0.375+1.42941498e+00j,\n",
       "        -0.375+1.39951905e+00j,  -0.375+1.37076913e+00j,\n",
       "        -0.375+1.34309908e+00j,  -0.375+1.31644773e+00j,\n",
       "        -0.375+1.29075847e+00j,  -0.375+1.26597878e+00j,\n",
       "        -0.375+1.24205992e+00j,  -0.375+1.21895655e+00j,\n",
       "        -0.375+1.19662646e+00j,  -0.375+1.17503029e+00j,\n",
       "        -0.375+1.15413133e+00j,  -0.375+1.13389525e+00j,\n",
       "        -0.375+1.11428995e+00j,  -0.375+1.09528537e+00j,\n",
       "        -0.375+1.07685332e+00j,  -0.375+1.05896733e+00j,\n",
       "        -0.375+1.04160257e+00j,  -0.375+1.02473566e+00j,\n",
       "        -0.375+1.00834461e+00j,  -0.375+9.92408704e-01j,\n",
       "        -0.375+9.76908399e-01j,  -0.375+9.61825263e-01j,\n",
       "        -0.375+9.47141884e-01j,  -0.375+9.32841802e-01j,\n",
       "        -0.375+9.18909449e-01j,  -0.375+9.05330086e-01j,\n",
       "        -0.375+8.92089748e-01j,  -0.375+8.79175196e-01j,\n",
       "        -0.375+8.66573870e-01j,  -0.375+8.54273845e-01j,\n",
       "        -0.375+8.42263790e-01j,  -0.375+8.30532937e-01j,\n",
       "        -0.375+8.19071039e-01j,  -0.375+8.07868344e-01j,\n",
       "        -0.375+7.96915565e-01j,  -0.375+7.86203850e-01j,\n",
       "        -0.375+7.75724758e-01j,  -0.375+7.65470238e-01j,\n",
       "        -0.375+7.55432601e-01j,  -0.375+7.45604507e-01j,\n",
       "        -0.375+7.35978940e-01j,  -0.375+7.26549190e-01j,\n",
       "        -0.375+7.17308841e-01j,  -0.375+7.08251753e-01j,\n",
       "        -0.375+6.99372044e-01j,  -0.375+6.90664082e-01j,\n",
       "        -0.375+6.82122468e-01j,  -0.375+6.73742024e-01j,\n",
       "        -0.375+6.65517786e-01j,  -0.375+6.57444987e-01j,\n",
       "        -0.375+6.49519053e-01j,  -0.375+6.41735588e-01j,\n",
       "        -0.375+6.34090371e-01j,  -0.375+6.26579342e-01j,\n",
       "        -0.375+6.19198597e-01j,  -0.375+6.11944383e-01j,\n",
       "        -0.375+6.04813084e-01j,  -0.375+5.97801223e-01j,\n",
       "        -0.375+5.90905447e-01j,  -0.375+5.84122531e-01j,\n",
       "        -0.375+5.77449361e-01j,  -0.375+5.70882940e-01j,\n",
       "        -0.375+5.64420374e-01j,  -0.375+5.58058873e-01j,\n",
       "        -0.375+5.51795743e-01j,  -0.375+5.45628386e-01j,\n",
       "        -0.375+5.39554289e-01j,  -0.375+5.33571029e-01j,\n",
       "        -0.375+5.27676262e-01j,  -0.375+5.21867722e-01j,\n",
       "        -0.375+5.16143220e-01j,  -0.375+5.10500639e-01j,\n",
       "        -0.375+5.04937928e-01j,  -0.375+4.99453107e-01j,\n",
       "        -0.375+4.94044255e-01j,  -0.375+4.88709515e-01j,\n",
       "        -0.375+4.83447087e-01j,  -0.375+4.78255228e-01j,\n",
       "        -0.375+4.73132249e-01j,  -0.375+4.68076514e-01j,\n",
       "        -0.375+4.63086434e-01j,  -0.375+4.58160471e-01j,\n",
       "        -0.375+4.53297131e-01j,  -0.375+4.48494968e-01j,\n",
       "        -0.375+4.43752575e-01j,  -0.375+4.39068587e-01j,\n",
       "        -0.375+4.34441681e-01j,  -0.375+4.29870571e-01j,\n",
       "        -0.375+4.25354006e-01j,  -0.375+4.20890773e-01j,\n",
       "        -0.375+4.16479693e-01j,  -0.375+4.12119619e-01j,\n",
       "        -0.375+4.07809436e-01j,  -0.375+4.03548061e-01j,\n",
       "        -0.375+3.99334440e-01j,  -0.375+3.95167547e-01j,\n",
       "        -0.375+3.91046384e-01j,  -0.375+3.86969981e-01j,\n",
       "        -0.375+3.82937392e-01j,  -0.375+3.78947697e-01j,\n",
       "        -0.375+3.75000000e-01j,  -0.375+3.71093428e-01j,\n",
       "        -0.375+3.67227132e-01j,  -0.375+3.63400281e-01j,\n",
       "        -0.375+3.59612071e-01j,  -0.375+3.55861713e-01j,\n",
       "        -0.375+3.52148440e-01j,  -0.375+3.48471504e-01j,\n",
       "        -0.375+3.44830177e-01j,  -0.375+3.41223746e-01j,\n",
       "        -0.375+3.37651517e-01j,  -0.375+3.34112812e-01j,\n",
       "        -0.375+3.30606972e-01j,  -0.375+3.27133350e-01j,\n",
       "        -0.375+3.23691317e-01j,  -0.375+3.20280257e-01j,\n",
       "        -0.375+3.16899570e-01j,  -0.375+3.13548668e-01j,\n",
       "        -0.375+3.10226980e-01j,  -0.375+3.06933944e-01j,\n",
       "        -0.375+3.03669012e-01j,  -0.375+3.00431651e-01j,\n",
       "        -0.375+2.97221338e-01j,  -0.375+2.94037559e-01j,\n",
       "        -0.375+2.90879817e-01j,  -0.375+2.87747620e-01j,\n",
       "        -0.375+2.84640492e-01j,  -0.375+2.81557964e-01j,\n",
       "        -0.375+2.78499578e-01j,  -0.375+2.75464886e-01j,\n",
       "        -0.375+2.72453448e-01j,  -0.375+2.69464836e-01j,\n",
       "        -0.375+2.66498629e-01j,  -0.375+2.63554414e-01j,\n",
       "        -0.375+2.60631790e-01j,  -0.375+2.57730359e-01j,\n",
       "        -0.375+2.54849737e-01j,  -0.375+2.51989542e-01j,\n",
       "        -0.375+2.49149404e-01j,  -0.375+2.46328958e-01j,\n",
       "        -0.375+2.43527847e-01j,  -0.375+2.40745721e-01j,\n",
       "        -0.375+2.37982237e-01j,  -0.375+2.35237057e-01j,\n",
       "        -0.375+2.32509851e-01j,  -0.375+2.29800296e-01j,\n",
       "        -0.375+2.27108073e-01j,  -0.375+2.24432870e-01j,\n",
       "        -0.375+2.21774382e-01j,  -0.375+2.19132307e-01j,\n",
       "        -0.375+2.16506351e-01j,  -0.375+2.13896224e-01j,\n",
       "        -0.375+2.11301641e-01j,  -0.375+2.08722322e-01j,\n",
       "        -0.375+2.06157995e-01j,  -0.375+2.03608387e-01j,\n",
       "        -0.375+2.01073236e-01j,  -0.375+1.98552279e-01j,\n",
       "        -0.375+1.96045262e-01j,  -0.375+1.93551933e-01j,\n",
       "        -0.375+1.91072044e-01j,  -0.375+1.88605351e-01j,\n",
       "        -0.375+1.86151617e-01j,  -0.375+1.83710604e-01j,\n",
       "        -0.375+1.81282083e-01j,  -0.375+1.78865825e-01j,\n",
       "        -0.375+1.76461605e-01j,  -0.375+1.74069204e-01j,\n",
       "        -0.375+1.71688405e-01j,  -0.375+1.69318992e-01j,\n",
       "        -0.375+1.66960757e-01j,  -0.375+1.64613491e-01j,\n",
       "        -0.375+1.62276991e-01j,  -0.375+1.59951055e-01j,\n",
       "        -0.375+1.57635485e-01j,  -0.375+1.55330086e-01j,\n",
       "        -0.375+1.53034665e-01j,  -0.375+1.50749033e-01j,\n",
       "        -0.375+1.48473003e-01j,  -0.375+1.46206390e-01j,\n",
       "        -0.375+1.43949013e-01j,  -0.375+1.41700692e-01j,\n",
       "        -0.375+1.39461250e-01j,  -0.375+1.37230512e-01j,\n",
       "        -0.375+1.35008307e-01j,  -0.375+1.32794465e-01j,\n",
       "        -0.375+1.30588817e-01j,  -0.375+1.28391197e-01j,\n",
       "        -0.375+1.26201443e-01j,  -0.375+1.24019393e-01j,\n",
       "        -0.375+1.21844886e-01j,  -0.375+1.19677766e-01j,\n",
       "        -0.375+1.17517877e-01j,  -0.375+1.15365064e-01j,\n",
       "        -0.375+1.13219175e-01j,  -0.375+1.11080061e-01j,\n",
       "        -0.375+1.08947571e-01j,  -0.375+1.06821560e-01j,\n",
       "        -0.375+1.04701881e-01j,  -0.375+1.02588391e-01j,\n",
       "        -0.375+1.00480947e-01j,  -0.375+9.83794083e-02j,\n",
       "        -0.375+9.62836351e-02j,  -0.375+9.41934894e-02j,\n",
       "        -0.375+9.21088344e-02j,  -0.375+9.00295347e-02j,\n",
       "        -0.375+8.79554559e-02j,  -0.375+8.58864653e-02j,\n",
       "        -0.375+8.38224311e-02j,  -0.375+8.17632227e-02j,\n",
       "        -0.375+7.97087106e-02j,  -0.375+7.76587667e-02j,\n",
       "        -0.375+7.56132635e-02j,  -0.375+7.35720750e-02j,\n",
       "        -0.375+7.15350758e-02j,  -0.375+6.95021418e-02j,\n",
       "        -0.375+6.74731497e-02j,  -0.375+6.54479771e-02j,\n",
       "        -0.375+6.34265024e-02j,  -0.375+6.14086050e-02j,\n",
       "        -0.375+5.93941651e-02j,  -0.375+5.73830636e-02j,\n",
       "        -0.375+5.53751822e-02j,  -0.375+5.33704034e-02j,\n",
       "        -0.375+5.13686102e-02j,  -0.375+4.93696866e-02j,\n",
       "        -0.375+4.73735169e-02j,  -0.375+4.53799863e-02j,\n",
       "        -0.375+4.33889804e-02j,  -0.375+4.14003854e-02j,\n",
       "        -0.375+3.94140882e-02j,  -0.375+3.74299761e-02j,\n",
       "        -0.375+3.54479367e-02j,  -0.375+3.34678584e-02j,\n",
       "        -0.375+3.14896298e-02j,  -0.375+2.95131401e-02j,\n",
       "        -0.375+2.75382786e-02j,  -0.375+2.55649353e-02j,\n",
       "        -0.375+2.35930002e-02j,  -0.375+2.16223640e-02j,\n",
       "        -0.375+1.96529172e-02j,  -0.375+1.76845511e-02j,\n",
       "        -0.375+1.57171568e-02j,  -0.375+1.37506258e-02j,\n",
       "        -0.375+1.17848498e-02j,  -0.375+9.81972059e-03j,\n",
       "        -0.375+7.85513022e-03j,  -0.375+5.89097075e-03j,\n",
       "        -0.375+3.92713437e-03j,  -0.375+1.96351335e-03j,\n",
       "        -0.375+6.53280130e-13j,  -0.375-1.96351335e-03j,\n",
       "        -0.375-3.92713437e-03j,  -0.375-5.89097075e-03j,\n",
       "        -0.375-7.85513022e-03j,  -0.375-9.81972059e-03j,\n",
       "        -0.375-1.17848498e-02j,  -0.375-1.37506258e-02j,\n",
       "        -0.375-1.57171568e-02j,  -0.375-1.76845511e-02j,\n",
       "        -0.375-1.96529172e-02j,  -0.375-2.16223640e-02j,\n",
       "        -0.375-2.35930002e-02j,  -0.375-2.55649353e-02j,\n",
       "        -0.375-2.75382786e-02j,  -0.375-2.95131401e-02j,\n",
       "        -0.375-3.14896298e-02j,  -0.375-3.34678584e-02j,\n",
       "        -0.375-3.54479367e-02j,  -0.375-3.74299761e-02j,\n",
       "        -0.375-3.94140882e-02j,  -0.375-4.14003854e-02j,\n",
       "        -0.375-4.33889804e-02j,  -0.375-4.53799863e-02j,\n",
       "        -0.375-4.73735169e-02j,  -0.375-4.93696866e-02j,\n",
       "        -0.375-5.13686102e-02j,  -0.375-5.33704034e-02j,\n",
       "        -0.375-5.53751822e-02j,  -0.375-5.73830636e-02j,\n",
       "        -0.375-5.93941651e-02j,  -0.375-6.14086050e-02j,\n",
       "        -0.375-6.34265024e-02j,  -0.375-6.54479771e-02j,\n",
       "        -0.375-6.74731497e-02j,  -0.375-6.95021419e-02j,\n",
       "        -0.375-7.15350758e-02j,  -0.375-7.35720750e-02j,\n",
       "        -0.375-7.56132635e-02j,  -0.375-7.76587667e-02j,\n",
       "        -0.375-7.97087106e-02j,  -0.375-8.17632227e-02j,\n",
       "        -0.375-8.38224311e-02j,  -0.375-8.58864653e-02j,\n",
       "        -0.375-8.79554559e-02j,  -0.375-9.00295347e-02j,\n",
       "        -0.375-9.21088344e-02j,  -0.375-9.41934894e-02j,\n",
       "        -0.375-9.62836351e-02j,  -0.375-9.83794083e-02j,\n",
       "        -0.375-1.00480947e-01j,  -0.375-1.02588391e-01j,\n",
       "        -0.375-1.04701881e-01j,  -0.375-1.06821560e-01j,\n",
       "        -0.375-1.08947571e-01j,  -0.375-1.11080061e-01j,\n",
       "        -0.375-1.13219175e-01j,  -0.375-1.15365064e-01j,\n",
       "        -0.375-1.17517877e-01j,  -0.375-1.19677766e-01j,\n",
       "        -0.375-1.21844886e-01j,  -0.375-1.24019393e-01j,\n",
       "        -0.375-1.26201443e-01j,  -0.375-1.28391197e-01j,\n",
       "        -0.375-1.30588817e-01j,  -0.375-1.32794465e-01j,\n",
       "        -0.375-1.35008307e-01j,  -0.375-1.37230512e-01j,\n",
       "        -0.375-1.39461250e-01j,  -0.375-1.41700692e-01j,\n",
       "        -0.375-1.43949013e-01j,  -0.375-1.46206390e-01j,\n",
       "        -0.375-1.48473003e-01j,  -0.375-1.50749033e-01j,\n",
       "        -0.375-1.53034665e-01j,  -0.375-1.55330086e-01j,\n",
       "        -0.375-1.57635485e-01j,  -0.375-1.59951055e-01j,\n",
       "        -0.375-1.62276991e-01j,  -0.375-1.64613491e-01j,\n",
       "        -0.375-1.66960757e-01j,  -0.375-1.69318992e-01j,\n",
       "        -0.375-1.71688405e-01j,  -0.375-1.74069204e-01j,\n",
       "        -0.375-1.76461605e-01j,  -0.375-1.78865825e-01j,\n",
       "        -0.375-1.81282083e-01j,  -0.375-1.83710604e-01j,\n",
       "        -0.375-1.86151617e-01j,  -0.375-1.88605351e-01j,\n",
       "        -0.375-1.91072044e-01j,  -0.375-1.93551933e-01j,\n",
       "        -0.375-1.96045262e-01j,  -0.375-1.98552279e-01j,\n",
       "        -0.375-2.01073236e-01j,  -0.375-2.03608387e-01j,\n",
       "        -0.375-2.06157995e-01j,  -0.375-2.08722322e-01j,\n",
       "        -0.375-2.11301641e-01j,  -0.375-2.13896224e-01j,\n",
       "        -0.375-2.16506351e-01j,  -0.375-2.19132307e-01j,\n",
       "        -0.375-2.21774382e-01j,  -0.375-2.24432870e-01j,\n",
       "        -0.375-2.27108073e-01j,  -0.375-2.29800296e-01j,\n",
       "        -0.375-2.32509851e-01j,  -0.375-2.35237057e-01j,\n",
       "        -0.375-2.37982237e-01j,  -0.375-2.40745721e-01j,\n",
       "        -0.375-2.43527847e-01j,  -0.375-2.46328958e-01j,\n",
       "        -0.375-2.49149404e-01j,  -0.375-2.51989542e-01j,\n",
       "        -0.375-2.54849737e-01j,  -0.375-2.57730359e-01j,\n",
       "        -0.375-2.60631790e-01j,  -0.375-2.63554414e-01j,\n",
       "        -0.375-2.66498629e-01j,  -0.375-2.69464836e-01j,\n",
       "        -0.375-2.72453448e-01j,  -0.375-2.75464886e-01j,\n",
       "        -0.375-2.78499578e-01j,  -0.375-2.81557964e-01j,\n",
       "        -0.375-2.84640492e-01j,  -0.375-2.87747620e-01j,\n",
       "        -0.375-2.90879817e-01j,  -0.375-2.94037559e-01j,\n",
       "        -0.375-2.97221338e-01j,  -0.375-3.00431651e-01j,\n",
       "        -0.375-3.03669012e-01j,  -0.375-3.06933944e-01j,\n",
       "        -0.375-3.10226980e-01j,  -0.375-3.13548668e-01j,\n",
       "        -0.375-3.16899570e-01j,  -0.375-3.20280257e-01j,\n",
       "        -0.375-3.23691317e-01j,  -0.375-3.27133350e-01j,\n",
       "        -0.375-3.30606972e-01j,  -0.375-3.34112812e-01j,\n",
       "        -0.375-3.37651517e-01j,  -0.375-3.41223746e-01j,\n",
       "        -0.375-3.44830177e-01j,  -0.375-3.48471504e-01j,\n",
       "        -0.375-3.52148440e-01j,  -0.375-3.55861713e-01j,\n",
       "        -0.375-3.59612071e-01j,  -0.375-3.63400281e-01j,\n",
       "        -0.375-3.67227132e-01j,  -0.375-3.71093428e-01j,\n",
       "        -0.375-3.75000000e-01j,  -0.375-3.78947697e-01j,\n",
       "        -0.375-3.82937392e-01j,  -0.375-3.86969981e-01j,\n",
       "        -0.375-3.91046384e-01j,  -0.375-3.95167547e-01j,\n",
       "        -0.375-3.99334440e-01j,  -0.375-4.03548061e-01j,\n",
       "        -0.375-4.07809436e-01j,  -0.375-4.12119619e-01j,\n",
       "        -0.375-4.16479693e-01j,  -0.375-4.20890773e-01j,\n",
       "        -0.375-4.25354006e-01j,  -0.375-4.29870571e-01j,\n",
       "        -0.375-4.34441681e-01j,  -0.375-4.39068587e-01j,\n",
       "        -0.375-4.43752575e-01j,  -0.375-4.48494968e-01j,\n",
       "        -0.375-4.53297131e-01j,  -0.375-4.58160471e-01j,\n",
       "        -0.375-4.63086434e-01j,  -0.375-4.68076514e-01j,\n",
       "        -0.375-4.73132249e-01j,  -0.375-4.78255228e-01j,\n",
       "        -0.375-4.83447087e-01j,  -0.375-4.88709515e-01j,\n",
       "        -0.375-4.94044255e-01j,  -0.375-4.99453107e-01j,\n",
       "        -0.375-5.04937928e-01j,  -0.375-5.10500639e-01j,\n",
       "        -0.375-5.16143220e-01j,  -0.375-5.21867722e-01j,\n",
       "        -0.375-5.27676262e-01j,  -0.375-5.33571029e-01j,\n",
       "        -0.375-5.39554289e-01j,  -0.375-5.45628386e-01j,\n",
       "        -0.375-5.51795743e-01j,  -0.375-5.58058873e-01j,\n",
       "        -0.375-5.64420374e-01j,  -0.375-5.70882940e-01j,\n",
       "        -0.375-5.77449361e-01j,  -0.375-5.84122531e-01j,\n",
       "        -0.375-5.90905447e-01j,  -0.375-5.97801223e-01j,\n",
       "        -0.375-6.04813084e-01j,  -0.375-6.11944383e-01j,\n",
       "        -0.375-6.19198597e-01j,  -0.375-6.26579342e-01j,\n",
       "        -0.375-6.34090371e-01j,  -0.375-6.41735588e-01j,\n",
       "        -0.375-6.49519053e-01j,  -0.375-6.57444987e-01j,\n",
       "        -0.375-6.65517786e-01j,  -0.375-6.73742024e-01j,\n",
       "        -0.375-6.82122468e-01j,  -0.375-6.90664082e-01j,\n",
       "        -0.375-6.99372044e-01j,  -0.375-7.08251753e-01j,\n",
       "        -0.375-7.17308841e-01j,  -0.375-7.26549190e-01j,\n",
       "        -0.375-7.35978940e-01j,  -0.375-7.45604507e-01j,\n",
       "        -0.375-7.55432601e-01j,  -0.375-7.65470238e-01j,\n",
       "        -0.375-7.75724758e-01j,  -0.375-7.86203850e-01j,\n",
       "        -0.375-7.96915565e-01j,  -0.375-8.07868344e-01j,\n",
       "        -0.375-8.19071039e-01j,  -0.375-8.30532937e-01j,\n",
       "        -0.375-8.42263790e-01j,  -0.375-8.54273845e-01j,\n",
       "        -0.375-8.66573870e-01j,  -0.375-8.79175196e-01j,\n",
       "        -0.375-8.92089748e-01j,  -0.375-9.05330086e-01j,\n",
       "        -0.375-9.18909449e-01j,  -0.375-9.32841802e-01j,\n",
       "        -0.375-9.47141884e-01j,  -0.375-9.61825263e-01j,\n",
       "        -0.375-9.76908399e-01j,  -0.375-9.92408704e-01j,\n",
       "        -0.375-1.00834461e+00j,  -0.375-1.02473566e+00j,\n",
       "        -0.375-1.04160257e+00j,  -0.375-1.05896733e+00j,\n",
       "        -0.375-1.07685332e+00j,  -0.375-1.09528537e+00j,\n",
       "        -0.375-1.11428995e+00j,  -0.375-1.13389525e+00j,\n",
       "        -0.375-1.15413133e+00j,  -0.375-1.17503029e+00j,\n",
       "        -0.375-1.19662646e+00j,  -0.375-1.21895655e+00j,\n",
       "        -0.375-1.24205992e+00j,  -0.375-1.26597878e+00j,\n",
       "        -0.375-1.29075847e+00j,  -0.375-1.31644773e+00j,\n",
       "        -0.375-1.34309908e+00j,  -0.375-1.37076913e+00j,\n",
       "        -0.375-1.39951905e+00j,  -0.375-1.42941498e+00j,\n",
       "        -0.375-1.46052857e+00j,  -0.375-1.49293758e+00j,\n",
       "        -0.375-1.52672652e+00j,  -0.375-1.56198741e+00j,\n",
       "        -0.375-1.59882066e+00j,  -0.375-1.63733598e+00j,\n",
       "        -0.375-1.67765356e+00j,  -0.375-1.71990530e+00j,\n",
       "        -0.375-1.76423629e+00j,  -0.375-1.81080651e+00j,\n",
       "        -0.375-1.85979276e+00j,  -0.375-1.91139097e+00j,\n",
       "        -0.375-1.96581884e+00j,  -0.375-2.02331894e+00j,\n",
       "        -0.375-2.08416238e+00j,  -0.375-2.14865312e+00j,\n",
       "        -0.375-2.21713313e+00j,  -0.375-2.28998851e+00j,\n",
       "        -0.375-2.36765682e+00j,  -0.375-2.45063597e+00j,\n",
       "        -0.375-2.53949503e+00j,  -0.375-2.63488734e+00j,\n",
       "        -0.375-2.73756676e+00j,  -0.375-2.84840779e+00j,\n",
       "        -0.375-2.96843066e+00j,  -0.375-3.09883302e+00j,\n",
       "        -0.375-3.24103030e+00j,  -0.375-3.39670751e+00j,\n",
       "        -0.375-3.56788667e+00j,  -0.375-3.75701549e+00j,\n",
       "        -0.375-3.96708562e+00j,  -0.375-4.20179261e+00j,\n",
       "        -0.375-4.46575590e+00j,  -0.375-4.76482678e+00j,\n",
       "        -0.375-5.10652834e+00j,  -0.375-5.50069846e+00j,\n",
       "        -0.375-5.96045432e+00j,  -0.375-6.50368296e+00j,\n",
       "        -0.375-7.15542626e+00j,  -0.375-7.95185580e+00j,\n",
       "        -0.375-8.94722895e+00j,  -0.375-1.02268073e+01j,\n",
       "        -0.375-1.19326935e+01j,  -0.375-1.43206722e+01j,\n",
       "        -0.375-1.79023130e+01j,  -0.375-2.38712779e+01j,\n",
       "        -0.375-3.58085532e+01j,  -0.375-7.16190699e+01j])"
      ]
     },
     "execution_count": 3,
     "metadata": {},
     "output_type": "execute_result"
    }
   ],
   "source": [
    "# Numerical arrays\n",
    "import numpy as np\n",
    "\n",
    "x = np.array([1.0, 2.0, 3.0, -1.0, 1.5])\n",
    "\n",
    "# Used as our output arrays\n",
    "y = []\n",
    "\n",
    "N = len(x)\n",
    "\n",
    "for k in range(N):\n",
    "    y_k = 0.0\n",
    "    for n in range(N):\n",
    "        y_k = y_k + (np.e**(-2 * np.pi * 1j * k * n / N) * x[n])\n",
    "    y.append(y_k)\n",
    "    \n",
    "np.array(y)"
   ]
  },
  {
   "cell_type": "markdown",
   "id": "9fedf7a5",
   "metadata": {},
   "source": [
    "Let us see the use of this formula with an example from the <i>SciPy Python library</i>, which is mainly used for scientific computing.<sup><a href=\"#references\">[4]</a></sup>\n"
   ]
  },
  {
   "cell_type": "code",
   "execution_count": null,
   "id": "ccda0e2d",
   "metadata": {},
   "outputs": [],
   "source": []
  },
  {
   "cell_type": "code",
   "execution_count": 2,
   "id": "939bd9f6",
   "metadata": {},
   "outputs": [
    {
     "data": {
      "image/png": "[encoded data removed]",
      "text/plain": [
       "<Figure size 432x288 with 1 Axes>"
      ]
     },
     "metadata": {
      "needs_background": "light"
     },
     "output_type": "display_data"
    }
   ],
   "source": [
    "from scipy.fft import fft, fftfreq\n",
    "\n",
    "import numpy as np\n",
    "\n",
    "# Number of sample points\n",
    "\n",
    "N = 600\n",
    "\n",
    "# sample spacing\n",
    "\n",
    "T = 1.0 / 800.0\n",
    "\n",
    "x = np.linspace(0.0, N*T, N, endpoint=False)\n",
    "\n",
    "y = np.sin(50.0 * 2.0*np.pi*x) + 0.5*np.sin(80.0 * 2.0*np.pi*x)\n",
    "\n",
    "yf = fft(y)\n",
    "\n",
    "xf = fftfreq(N, T)[:N//2]\n",
    "\n",
    "import matplotlib.pyplot as plt\n",
    "\n",
    "plt.plot(xf, 2.0/N * np.abs(yf[0:N//2]))\n",
    "\n",
    "plt.grid()\n",
    "\n",
    "plt.show()"
   ]
  },
  {
   "cell_type": "code",
   "execution_count": 2,
   "id": "22ef1870",
   "metadata": {},
   "outputs": [],
   "source": [
    "def add(x,y):\n",
    "    return (x[0] + y[0],x[1]+y[1])"
   ]
  },
  {
   "cell_type": "code",
   "execution_count": 3,
   "id": "6e4bea04",
   "metadata": {},
   "outputs": [
    {
     "data": {
      "text/plain": [
       "(1, 12)"
      ]
     },
     "execution_count": 3,
     "metadata": {},
     "output_type": "execute_result"
    }
   ],
   "source": [
    "add(x,y)"
   ]
  },
  {
   "cell_type": "code",
   "execution_count": 4,
   "id": "52c427da",
   "metadata": {},
   "outputs": [],
   "source": [
    "def mul(x,y):\n",
    "    a, b = x\n",
    "    c, d = y\n",
    "    return (a * c - b * d,a * d + b * c)"
   ]
  },
  {
   "cell_type": "code",
   "execution_count": 5,
   "id": "7c136550",
   "metadata": {},
   "outputs": [
    {
     "data": {
      "text/plain": [
       "(-41, 1)"
      ]
     },
     "execution_count": 5,
     "metadata": {},
     "output_type": "execute_result"
    }
   ],
   "source": [
    "mul(x,y)"
   ]
  },
  {
   "cell_type": "code",
   "execution_count": 6,
   "id": "e40b8928",
   "metadata": {},
   "outputs": [
    {
     "data": {
      "text/plain": [
       "(1+12j)"
      ]
     },
     "execution_count": 6,
     "metadata": {},
     "output_type": "execute_result"
    }
   ],
   "source": [
    "(3 + 7j) + (-2 + 5j)"
   ]
  },
  {
   "cell_type": "markdown",
   "id": "32ad7725",
   "metadata": {},
   "source": [
    "Explore complex numbers (why multiplication is as it is etc.)"
   ]
  },
  {
   "cell_type": "code",
   "execution_count": 7,
   "id": "6d134879",
   "metadata": {},
   "outputs": [],
   "source": [
    "class Complex():\n",
    "    def __init__(self,a,b):\n",
    "        self.a = a\n",
    "        self.b = b\n",
    "        \n",
    "    def __add__(self, other):\n",
    "        return Complex(self.a + other.a, self.b + other.b)\n",
    "    \n",
    "    def __mul__(self, other):\n",
    "        a, b = self.a, self.b\n",
    "        c, d = other.a, other.b\n",
    "        return Complex(a*c - b*d, a*d + b*c)\n",
    "    \n",
    "    def __repr__(self):\n",
    "        return f'Complex({self.a},{self.b})'"
   ]
  },
  {
   "cell_type": "code",
   "execution_count": 8,
   "id": "fd9c4fce",
   "metadata": {},
   "outputs": [
    {
     "data": {
      "text/plain": [
       "Complex(3,7)"
      ]
     },
     "execution_count": 8,
     "metadata": {},
     "output_type": "execute_result"
    }
   ],
   "source": [
    "Complex(3,7)"
   ]
  },
  {
   "cell_type": "code",
   "execution_count": 9,
   "id": "3931c2b5",
   "metadata": {},
   "outputs": [
    {
     "data": {
      "text/plain": [
       "Complex(-2,5)"
      ]
     },
     "execution_count": 9,
     "metadata": {},
     "output_type": "execute_result"
    }
   ],
   "source": [
    "Complex(-2,5)"
   ]
  },
  {
   "cell_type": "code",
   "execution_count": 10,
   "id": "a4e94be8",
   "metadata": {},
   "outputs": [],
   "source": [
    "import matplotlib.pyplot as plt\n",
    "import numpy as np"
   ]
  },
  {
   "cell_type": "code",
   "execution_count": 11,
   "id": "f86661c5",
   "metadata": {},
   "outputs": [],
   "source": [
    "x = np.linspace(-6.0,6.0,1000)\n",
    "y = x**2 - 16"
   ]
  },
  {
   "cell_type": "code",
   "execution_count": 12,
   "id": "ae10657c",
   "metadata": {
    "scrolled": true
   },
   "outputs": [
    {
     "data": {
      "text/plain": [
       "<matplotlib.lines.Line2D at 0x242c0ffbca0>"
      ]
     },
     "execution_count": 12,
     "metadata": {},
     "output_type": "execute_result"
    },
    {
     "data": {
      "image/png": "[encoded data removed]",
      "text/plain": [
       "<Figure size 640x480 with 1 Axes>"
      ]
     },
     "metadata": {},
     "output_type": "display_data"
    }
   ],
   "source": [
    "fig, ax = plt.subplots()\n",
    "ax.plot(x,y)\n",
    "ax.axhline(0.0,color='grey')"
   ]
  },
  {
   "cell_type": "markdown",
   "id": "86ca3e07",
   "metadata": {},
   "source": [
    "<h2 style=\"color: rgb(0, 91, 94);\">References</h2>\n",
    "\n",
    "<hr style=\"border-top: 1px solid rgb(0, 91, 94);\" />\n",
    "\n",
    "<div id=\"references\">\n",
    "    <p>\n",
    "        [1] Ijirset (Journal): <a href=\"http://www.ijirset.com/upload/2018/november/46_Applications%20of%20Fourier%20transform%20in%20Engineering%20Field%20_1_.pdf\">Applications of Fourier Transform in Engineering Field</a><br><br>\n",
    "        [2] Scholars at Harvard (Notes): <a href=\"https://scholar.harvard.edu/files/david-morin/files/waves_fourier.pdf\">Fourier analysis</a><br><br>  \n",
    "        [3] G2 - Business Software Reviews: <a href=\"https://www.g2.com/articles/discrete-vs-continuous-data\">Discrete vs. Continuous Data</a><br><br>  \n",
    "        [4] SciPy: Documentation: <a href=\"https://docs.scipy.org/doc/scipy/tutorial/fft.html\">Fourier Transforms</a><br><br>  \n",
    "</div>\n",
    "\n",
    "\n",
    "<!--<sup><a href=\"#references\">[5]</a></sup>!-->"
   ]
  }
 ],
 "metadata": {
  "kernelspec": {
   "display_name": "Python 3 (ipykernel)",
   "language": "python",
   "name": "python3"
  },
  "language_info": {
   "codemirror_mode": {
    "name": "ipython",
    "version": 3
   },
   "file_extension": ".py",
   "mimetype": "text/x-python",
   "name": "python",
   "nbconvert_exporter": "python",
   "pygments_lexer": "ipython3",
   "version": "3.9.7"
  }
 },
 "nbformat": 4,
 "nbformat_minor": 5
}
