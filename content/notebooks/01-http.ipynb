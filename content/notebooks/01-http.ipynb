{
 "cells": [
  {
   "cell_type": "markdown",
   "metadata": {},
   "source": [
    "<h1 style=\"color: #005b5e;\">HTTP</h1>\n",
    "\n",
    "<hr style=\"border-top: 1px solid #005b5e;\" />\n",
    "\n",
    "Within this notebook, we will explain the concept of HTTP, alongside its usage and function. HTTP is a vital protocol which is important to understand and know of when working within the realms of the internet etc.\n",
    "\n",
    "We will also discuss what exactly as server is in this context and its operations."
   ]
  },
  {
   "cell_type": "markdown",
   "metadata": {},
   "source": [
    "<h3 style=\"color: #005b5e;\">Description</h3>\n",
    "\n",
    "<hr style=\"border-top: 1px solid #005b5e;\" />\n",
    "\n",
    "HTTP or (Hyper Text Transfer Protocol), can be described as an \"application layer protocol for transferring hypermedia documents\", similiar to HTML.<sup><a href=\"#references\">[1]</a></sup> This inherently means that this protocol is used to load pages using hyperlinks. This provides the main access to the internet.\n",
    "\n",
    "The HTTP protocol is based on a <a href=\"https://en.wikipedia.org/wiki/Client%E2%80%93server_model\">client-server model</a> ,meaning each request is actually initiated by the receiver (e.g a browser). HTTP is a \"stateless protocol\", meaning each request is treated independently, not having any knowledge of previous requests, which follows <a href=\"https://restfulapi.net/\">REST</a> principles.\n",
    "\n",
    "Communication is made through HTTP requests and HTTP responses, but what do they consist of?"
   ]
  },
  {
   "cell_type": "markdown",
   "metadata": {},
   "source": [
    "<h3 style=\"color: #005b5e;\">Request and Response</h3>\n",
    "\n",
    "<hr style=\"border-top: 1px solid #005b5e;\" />\n",
    "\n",
    "HTTP consists of both a HTTP request (made by the client) and a HTTP response (sent by the server). Let us first breakdown and understand these individually.\n",
    "\n",
    "<h4 style=\"color: #005b5e;\">HTTP Request</h4>\n",
    "<hr style=\"border-top: 1px solid #005b5e;\" />\n",
    "\n",
    "A HTTP Request is simply the way in which web browsers ask for information in which they need in order to access a website. A request is made up of the following:\n",
    "\n",
    "<ul>\n",
    "    <li>HTTP Version</li>\n",
    "    <li>URL</li>\n",
    "    <li>HTTP Request Headers</li>\n",
    "    <li>HTTP Method</li> \n",
    "</ul>\n",
    "\n",
    "\n",
    "<p style=\"color: #005b5e;\"><b>HTTP Version:</b> </p>The current HTTP version in use (<i>e.g. <b>HTTP/1.1</b></i>)\n",
    "<p style=\"color: #005b5e;\"><b>URL:</b> </p>The path of the document\n",
    "<p style=\"color: #005b5e;\"><b>HTTP Method:</b> </p>The action in which is expected to be carried out on request.\n",
    "There are many different HTTP methods, however the most common are <b>GET</b> and <b>POST</b>.<br>\n",
    "<br>\n",
    "<div style=\"color: #005b5e;\" ><b>GET :</b></div> Used to <i>read</i> or retrieve a resource. Resource returned may be XML or JSON<br><br>\n",
    "\n",
    "<div style=\"color: #005b5e;\"><b>POST :</b></div> Used to <i>read</i> or retrieve a resource. Resource returned may be XML or JSON\n",
    "\n",
    "<p style=\"color: #005b5e;\"><b>HTTP Request Headers:</b> </p>The current HTTP version in use\n",
    "\n",
    "\n",
    "<img src=\"https://www3.ntu.edu.sg/home/ehchua/programming/webprogramming/images/HTTP_Steps.png\"><a href=\"https://www3.ntu.edu.sg/home/ehchua/programming/webprogramming/images/HTTP_Steps.png\"><center>Source</center></a></img>\n",
    "\n",
    "\n"
   ]
  },
  {
   "cell_type": "code",
   "execution_count": null,
   "metadata": {},
   "outputs": [],
   "source": []
  },
  {
   "cell_type": "code",
   "execution_count": null,
   "metadata": {},
   "outputs": [],
   "source": []
  },
  {
   "cell_type": "code",
   "execution_count": null,
   "metadata": {},
   "outputs": [],
   "source": []
  },
  {
   "cell_type": "markdown",
   "metadata": {},
   "source": [
    "<h2 style=\"color: #005b5e;;\">HTTP: State and Session Management</h2>\n",
    "\n",
    "<hr style=\"border-top: 1px solid #005b5e;\" />"
   ]
  },
  {
   "cell_type": "code",
   "execution_count": null,
   "metadata": {},
   "outputs": [],
   "source": []
  },
  {
   "cell_type": "code",
   "execution_count": null,
   "metadata": {},
   "outputs": [],
   "source": []
  },
  {
   "cell_type": "code",
   "execution_count": null,
   "metadata": {},
   "outputs": [],
   "source": []
  },
  {
   "cell_type": "markdown",
   "metadata": {},
   "source": [
    "<h2 style=\"color: #005b5e;;\">HTTP</h2>\n",
    "\n",
    "<hr style=\"border-top: 1px solid #005b5e;\" />\n",
    "\n",
    "- The <a href=\"https://developer.mozilla.org/en-US/docs/Web/HTTP\" style=\"color: #ff791e\">HyperText Transfer Protocol (HTTP)</a> follows a client-server model.\n",
    "\n",
    "- Clients send requests to servers and receive responses in return.\n",
    "\n",
    "- Request-response pairs are atomic: a new request needs to be sent for any follow up.\n",
    "\n",
    "- HTTP is designed to be stateless (see <a href=\"https://developer.mozilla.org/en-US/docs/Glossary/REST\" style=\"color: #ff791e\">REST</a>): the server should not retain any state between requests.\n",
    "\n",
    "- A distinction is made between state and sessions in HTTP, though it is somewhat confusing."
   ]
  },
  {
   "cell_type": "markdown",
   "metadata": {},
   "source": [
    "<span style=\"color: #001a79; font-weight: 800;\">Question:</span> what is a server?\n",
    "\n",
    "<br>"
   ]
  },
  {
   "cell_type": "markdown",
   "metadata": {},
   "source": [
    "<h4 style=\"color: rgb(0, 91, 94);\">Example Request</h4>\n",
    "\n",
    "\n",
    "<a href=\"https://developer.mozilla.org/en-US/docs/Web/HTTP/Session\" style=\"color: #ff791e\">https://developer.mozilla.org/en-US/docs/Web/HTTP/Session</a>\n",
    "\n",
    "<hr style=\"border-top: 1px solid #7bb9cb;\" />\n",
    "\n",
    "```http\n",
    "POST /contact_form.php HTTP/1.1\n",
    "Host: developer.mozilla.org\n",
    "Content-Length: 64\n",
    "Content-Type: application/x-www-form-urlencoded\n",
    "\n",
    "name=Joe%20User&request=Send%20me%20one%20of%20your%20catalogue\n",
    "```\n",
    "<hr style=\"border-top: 1px solid #7bb9cb;\" />\n"
   ]
  },
  {
   "cell_type": "markdown",
   "metadata": {},
   "source": [
    "<h4 style=\"color: rgb(0, 91, 94);\">Example Response</h4>\n",
    "\n",
    "\n",
    "<a href=\"https://developer.mozilla.org/en-US/docs/Web/HTTP/Session\" style=\"color: #ff791e\">https://developer.mozilla.org/en-US/docs/Web/HTTP/Session</a>\n",
    "\n",
    "<hr style=\"border-top: 1px solid #7bb9cb;\" />\n",
    "\n",
    "```http\n",
    "HTTP/1.1 200 OK\n",
    "Content-Type: text/html; charset=utf-8\n",
    "Content-Length: 55743\n",
    "Connection: keep-alive\n",
    "Cache-Control: s-maxage=300, public, max-age=0\n",
    "Content-Language: en-US\n",
    "Date: Thu, 06 Dec 2018 17:37:18 GMT\n",
    "ETag: \"2e77ad1dc6ab0b53a2996dfd4653c1c3\"\n",
    "Server: meinheld/0.6.1\n",
    "Strict-Transport-Security: max-age=63072000\n",
    "X-Content-Type-Options: nosniff\n",
    "X-Frame-Options: DENY\n",
    "X-XSS-Protection: 1; mode=block\n",
    "Vary: Accept-Encoding,Cookie\n",
    "Age: 7\n",
    "\n",
    "<!DOCTYPE html>\n",
    "<html lang=\"en\">\n",
    "<head>\n",
    "  <meta charset=\"utf-8\">\n",
    "  <title>A simple webpage</title>\n",
    "</head>\n",
    "<body>\n",
    "  <h1>Simple HTML webpage</h1>\n",
    "  <p>Hello, world!</p>\n",
    "</body>\n",
    "</html>\n",
    "```\n",
    "\n",
    "<hr style=\"border-top: 1px solid #7bb9cb;\" />\n"
   ]
  },
  {
   "cell_type": "markdown",
   "metadata": {},
   "source": [
    "<h2 style=\"color: rgb(0, 91, 94);\">Static vs Dynamic</h2>\n",
    "\n",
    "<hr style=\"border-top: 1px solid rgb(0, 91, 94);\" />\n",
    "\n",
    "\n",
    "<img src=\"https://github.com/ianmcloughlin/images/raw/master/dynamic.png\" style=\"border: 20px solid rgba(0,0,0,0);\" width=\"600px\">\n",
    "\n",
    "\n",
    "- Static generally means the responses are fixed files - not generated from database content.\n",
    "\n",
    "- The same request typically generates the same response.\n",
    "\n",
    "- The website might still be interactive using (client-side) JavaScript.\n",
    "\n",
    "- Dynamic means something happens between the server receiving the request and the response being sent - usually interaction with a database.\n",
    "\n",
    "- Implies the web server has some mechanism for running some form of code.\n",
    "\n",
    "- The same request at different times might generate a different response.\n",
    "\n",
    "- GitHub Pages is generally only for static content."
   ]
  },
  {
   "cell_type": "markdown",
   "metadata": {},
   "source": [
    "<h2 style=\"color: rgb(0, 91, 94);\">References</h2>\n",
    "\n",
    "<hr style=\"border-top: 1px solid rgb(0, 91, 94);\" />\n",
    "\n",
    "<div id=\"references\">\n",
    "    <p>\n",
    "        [1] Mozilla Web Docs (Website): <a href=\"https://developer.mozilla.org/en-US/docs/Web/HTTP\">HTTP</a><br><br> \n",
    "        [2] Mozilla Web Docs (Website): <a href=\"https://developer.mozilla.org/en-US/docs/Web/HTTP/Overview\">HTTP: Overview</a><br><br>\n",
    "        [3] Nanyang Technological University (Notes): <a href=\"https://www3.ntu.edu.sg/home/ehchua/programming/webprogramming/HTTP_StateManagement.html\">HTTP: State and Session Management</a><br><br>\n",
    "        [4] Cloudflare (Website): <a href=\"https://www.cloudflare.com/learning/ddos/glossary/hypertext-transfer-protocol-http/\">What is HTTP?</a><br><br>\n",
    "        [5] REST API Tutorial (Website): <a href=\"https://www.restapitutorial.com/lessons/httpmethods.html\">HTTP Methods for RESTful Services</a><br><br>\n",
    "</div>\n"
   ]
  }
 ],
 "metadata": {
  "kernelspec": {
   "display_name": "Python 3 (ipykernel)",
   "language": "python",
   "name": "python3"
  },
  "language_info": {
   "codemirror_mode": {
    "name": "ipython",
    "version": 3
   },
   "file_extension": ".py",
   "mimetype": "text/x-python",
   "name": "python",
   "nbconvert_exporter": "python",
   "pygments_lexer": "ipython3",
   "version": "3.9.13"
  }
 },
 "nbformat": 4,
 "nbformat_minor": 4
}
