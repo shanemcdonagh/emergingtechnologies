{
 "cells": [
  {
   "cell_type": "markdown",
   "id": "40d26da2",
   "metadata": {},
   "source": [
    "<h1 style=\"color: rgb(0, 91, 94);\">Fourier Transform</h1>\n",
    "\n",
    "<hr style=\"border-top: 1px solid rgb(0, 91, 94);\" />"
   ]
  },
  {
   "cell_type": "markdown",
   "id": "7ab8c72f",
   "metadata": {},
   "source": [
    "<h2 style=\"color: rgb(0, 91, 94);\">Introduction</h2>\n",
    "\n",
    "<hr style=\"border-top: 1px solid rgb(0, 91, 94);\" />\n",
    "\n",
    "Within this repository, we will be exploring the concept of <b>Fourier Transform</b>, its definition, application and general usefulness. It is important to discuss these in detail to provide a solid understanding of the principles of Fourier Transform.\n",
    "\n",
    "There are many applications of a Fourier Transform, which we will discuss as well."
   ]
  },
  {
   "cell_type": "markdown",
   "id": "3f96f104",
   "metadata": {},
   "source": [
    "<h2 style=\"color: rgb(0, 91, 94);\">Fourier Transform: Definition</h2>\n",
    "\n",
    "<hr style=\"border-top: 1px solid rgb(0, 91, 94);\" />\n",
    "\n",
    "To give a understanding to what Fourier Transform is, we must first define what exactly a Fourier Transform is. Originally discussed by the French mathmatician <i>Jean Baptiste Fourier</i>, he described the Fourier Transform to be a mathematical procedure which decomposes and transforms functions into frequency components (from a time domain to a frequency domain.<sup><a href=\"#references\">[1]</a></sup>\n",
    "\n",
    "Fourier Transform is one of two Fourier expansions which fall under the category of Fourier Analysis. We will briefly mention the other expansion in question for context, however this is not the main focus of this notebook.\n",
    "\n",
    "The Fourier analysis can be described as the study of general functions which may be represented or decomposed into \"trigonometric or exponential functions with definite frequencies\".<sup><a href=\"#references\">[2]</a></sup>\n",
    "\n",
    "The usage of Fourier analysis can be used in a myriad of ways, whether developing computer models or processing and analysing data. \n",
    "\n",
    "Fourier Transforms are used for <i>non-periodic</i> functions that can be written into trigometric or exponential functions with a \"continuum of possible frequencies\". Since these functions can be written in sinusoidal functions, this helps to focus on these functions when solving differing equations, which is easier than using general functions.<sup><a href=\"#references\">[1]</a></sup>"
   ]
  },
  {
   "cell_type": "code",
   "execution_count": null,
   "id": "16c45768",
   "metadata": {},
   "outputs": [],
   "source": []
  },
  {
   "cell_type": "code",
   "execution_count": null,
   "id": "0f3e11b2",
   "metadata": {},
   "outputs": [],
   "source": []
  },
  {
   "cell_type": "code",
   "execution_count": null,
   "id": "599be567",
   "metadata": {},
   "outputs": [],
   "source": []
  },
  {
   "cell_type": "code",
   "execution_count": null,
   "id": "675f2dd7",
   "metadata": {},
   "outputs": [],
   "source": []
  },
  {
   "cell_type": "code",
   "execution_count": 1,
   "id": "939bd9f6",
   "metadata": {},
   "outputs": [],
   "source": [
    "x = [3,7]\n",
    "y = [-2,5]"
   ]
  },
  {
   "cell_type": "code",
   "execution_count": 2,
   "id": "22ef1870",
   "metadata": {},
   "outputs": [],
   "source": [
    "def add(x,y):\n",
    "    return (x[0] + y[0],x[1]+y[1])"
   ]
  },
  {
   "cell_type": "code",
   "execution_count": 3,
   "id": "6e4bea04",
   "metadata": {},
   "outputs": [
    {
     "data": {
      "text/plain": [
       "(1, 12)"
      ]
     },
     "execution_count": 3,
     "metadata": {},
     "output_type": "execute_result"
    }
   ],
   "source": [
    "add(x,y)"
   ]
  },
  {
   "cell_type": "code",
   "execution_count": 4,
   "id": "52c427da",
   "metadata": {},
   "outputs": [],
   "source": [
    "def mul(x,y):\n",
    "    a, b = x\n",
    "    c, d = y\n",
    "    return (a * c - b * d,a * d + b * c)"
   ]
  },
  {
   "cell_type": "code",
   "execution_count": 5,
   "id": "7c136550",
   "metadata": {},
   "outputs": [
    {
     "data": {
      "text/plain": [
       "(-41, 1)"
      ]
     },
     "execution_count": 5,
     "metadata": {},
     "output_type": "execute_result"
    }
   ],
   "source": [
    "mul(x,y)"
   ]
  },
  {
   "cell_type": "code",
   "execution_count": 6,
   "id": "e40b8928",
   "metadata": {},
   "outputs": [
    {
     "data": {
      "text/plain": [
       "(1+12j)"
      ]
     },
     "execution_count": 6,
     "metadata": {},
     "output_type": "execute_result"
    }
   ],
   "source": [
    "(3 + 7j) + (-2 + 5j)"
   ]
  },
  {
   "cell_type": "markdown",
   "id": "32ad7725",
   "metadata": {},
   "source": [
    "Explore complex numbers (why multiplication is as it is etc.)"
   ]
  },
  {
   "cell_type": "code",
   "execution_count": 7,
   "id": "6d134879",
   "metadata": {},
   "outputs": [],
   "source": [
    "class Complex():\n",
    "    def __init__(self,a,b):\n",
    "        self.a = a\n",
    "        self.b = b\n",
    "        \n",
    "    def __add__(self, other):\n",
    "        return Complex(self.a + other.a, self.b + other.b)\n",
    "    \n",
    "    def __mul__(self, other):\n",
    "        a, b = self.a, self.b\n",
    "        c, d = other.a, other.b\n",
    "        return Complex(a*c - b*d, a*d + b*c)\n",
    "    \n",
    "    def __repr__(self):\n",
    "        return f'Complex({self.a},{self.b})'"
   ]
  },
  {
   "cell_type": "code",
   "execution_count": 8,
   "id": "fd9c4fce",
   "metadata": {},
   "outputs": [
    {
     "data": {
      "text/plain": [
       "Complex(3,7)"
      ]
     },
     "execution_count": 8,
     "metadata": {},
     "output_type": "execute_result"
    }
   ],
   "source": [
    "Complex(3,7)"
   ]
  },
  {
   "cell_type": "code",
   "execution_count": 9,
   "id": "3931c2b5",
   "metadata": {},
   "outputs": [
    {
     "data": {
      "text/plain": [
       "Complex(-2,5)"
      ]
     },
     "execution_count": 9,
     "metadata": {},
     "output_type": "execute_result"
    }
   ],
   "source": [
    "Complex(-2,5)"
   ]
  },
  {
   "cell_type": "code",
   "execution_count": 10,
   "id": "a4e94be8",
   "metadata": {},
   "outputs": [],
   "source": [
    "import matplotlib.pyplot as plt\n",
    "import numpy as np"
   ]
  },
  {
   "cell_type": "code",
   "execution_count": 11,
   "id": "f86661c5",
   "metadata": {},
   "outputs": [],
   "source": [
    "x = np.linspace(-6.0,6.0,1000)\n",
    "y = x**2 - 16"
   ]
  },
  {
   "cell_type": "code",
   "execution_count": 12,
   "id": "ae10657c",
   "metadata": {
    "scrolled": true
   },
   "outputs": [
    {
     "data": {
      "text/plain": [
       "<matplotlib.lines.Line2D at 0x242c0ffbca0>"
      ]
     },
     "execution_count": 12,
     "metadata": {},
     "output_type": "execute_result"
    },
    {
     "data": {
      "image/png": "[encoded data removed]",
      "text/plain": [
       "<Figure size 640x480 with 1 Axes>"
      ]
     },
     "metadata": {},
     "output_type": "display_data"
    }
   ],
   "source": [
    "fig, ax = plt.subplots()\n",
    "ax.plot(x,y)\n",
    "ax.axhline(0.0,color='grey')"
   ]
  },
  {
   "cell_type": "markdown",
   "id": "86ca3e07",
   "metadata": {},
   "source": [
    "<h2 style=\"color: rgb(0, 91, 94);\">References</h2>\n",
    "\n",
    "<hr style=\"border-top: 1px solid rgb(0, 91, 94);\" />\n",
    "\n",
    "<div id=\"references\">\n",
    "    <p>\n",
    "        [1] Ijirset (Journal): <a href=\"http://www.ijirset.com/upload/2018/november/46_Applications%20of%20Fourier%20transform%20in%20Engineering%20Field%20_1_.pdf\">Applications of Fourier Transform in Engineering Field</a><br><br>\n",
    "        [2] Scholars at Harvard (Notes): <a href=\"https://scholar.harvard.edu/files/david-morin/files/waves_fourier.pdf\">Fourier analysis</a><br><br>  \n",
    "</div>\n",
    "\n",
    "<!--<sup><a href=\"#references\">[5]</a></sup>!-->"
   ]
  }
 ],
 "metadata": {
  "kernelspec": {
   "display_name": "Python 3 (ipykernel)",
   "language": "python",
   "name": "python3"
  },
  "language_info": {
   "codemirror_mode": {
    "name": "ipython",
    "version": 3
   },
   "file_extension": ".py",
   "mimetype": "text/x-python",
   "name": "python",
   "nbconvert_exporter": "python",
   "pygments_lexer": "ipython3",
   "version": "3.9.13"
  }
 },
 "nbformat": 4,
 "nbformat_minor": 5
}
